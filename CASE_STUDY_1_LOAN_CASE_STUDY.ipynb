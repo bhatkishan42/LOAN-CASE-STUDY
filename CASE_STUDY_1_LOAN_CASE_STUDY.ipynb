{
  "nbformat": 4,
  "nbformat_minor": 0,
  "metadata": {
    "colab": {
      "name": "CASE STUDY  1 - LOAN CASE STUDY",
      "provenance": [],
      "collapsed_sections": [],
      "toc_visible": true,
      "mount_file_id": "1cZ1zalwx_HxX0uW2SBY_iTtFOZE41E4V",
      "authorship_tag": "ABX9TyMecoRqgNFdill5yasPPCzJ",
      "include_colab_link": true
    },
    "kernelspec": {
      "display_name": "Python 3",
      "name": "python3"
    },
    "language_info": {
      "name": "python"
    }
  },
  "cells": [
    {
      "cell_type": "markdown",
      "metadata": {
        "id": "view-in-github",
        "colab_type": "text"
      },
      "source": [
        "<a href=\"https://colab.research.google.com/github/bhatkishan42/LOAN-CASE-STUDY/blob/main/CASE_STUDY_1_LOAN_CASE_STUDY.ipynb\" target=\"_parent\"><img src=\"https://colab.research.google.com/assets/colab-badge.svg\" alt=\"Open In Colab\"/></a>"
      ]
    },
    {
      "cell_type": "markdown",
      "metadata": {
        "id": "7187YNuKBUkm"
      },
      "source": [
        "# LOAN CASE STUDY\n",
        "\n",
        "\n",
        "**Google colab(VIEW ONLY)**: https://colab.research.google.com/drive/1cZ1zalwx_HxX0uW2SBY_iTtFOZE41E4V?usp=sharing\n",
        "\n",
        "\n",
        "\n",
        "## Description:\n",
        "This case study aims to give you an idea of applying EDA in a real business scenario. In this case study,\n",
        "apart from applying the techniques that you have learnt in the EDA module, you will also develop a basic\n",
        "understanding of risk analytics in banking and financial services and understand how data is used to\n",
        "minimise the risk of losing money while lending to customers.\n"
      ]
    },
    {
      "cell_type": "code",
      "metadata": {
        "id": "jcGNB5gLEbqO"
      },
      "source": [
        "#installing required libraries\n",
        "import pandas as pd\n",
        "import numpy as np\n",
        "import seaborn as sns\n",
        "import matplotlib.pyplot as plt\n",
        "import os\n",
        "import itertools \n",
        "import warnings\n",
        "warnings.filterwarnings(\"ignore\")\n"
      ],
      "execution_count": 1,
      "outputs": []
    },
    {
      "cell_type": "markdown",
      "metadata": {
        "id": "tgpAecFG5gEa"
      },
      "source": [
        "Assumption and key-components\n",
        "* Target 0 = Clients who pay on time\n",
        "* Target 1 = Clients with loan payment Difficulty\n",
        "* app_d(Raw),app_12 & app_1 (cleaned,columns dropped) are same data set.\n",
        "\n",
        "\n"
      ]
    },
    {
      "cell_type": "markdown",
      "metadata": {
        "id": "zrDRpkZTGSX9"
      },
      "source": [
        "#### Import Data\n",
        "* Data is linked into drive and read in google colab."
      ]
    },
    {
      "cell_type": "code",
      "metadata": {
        "colab": {
          "base_uri": "https://localhost:8080/"
        },
        "id": "cH6zbCmWBS7q",
        "outputId": "18a34d9c-8027-4c93-b1d3-ffec9eb9a83b"
      },
      "source": [
        "app_d = pd.read_csv(\"/content/drive/MyDrive/Stige internship/application_data.csv\")\n",
        "pre_d = pd.read_csv(\"/content/drive/MyDrive/Stige internship/previous_application.csv\")\n",
        "print(\"Dimension of application data          : \",app_d.shape)\n",
        "print(\"Dimension of previous application data : \",pre_d.shape)\n"
      ],
      "execution_count": 2,
      "outputs": [
        {
          "output_type": "stream",
          "text": [
            "Dimension of application data          :  (307511, 122)\n",
            "Dimension of previous application data :  (1670214, 37)\n"
          ],
          "name": "stdout"
        }
      ]
    },
    {
      "cell_type": "markdown",
      "metadata": {
        "id": "5nGyrAuuz8AD"
      },
      "source": [
        "Lets explore the data."
      ]
    },
    {
      "cell_type": "code",
      "metadata": {
        "colab": {
          "base_uri": "https://localhost:8080/",
          "height": 344
        },
        "id": "Lqgt5RyoGnOR",
        "outputId": "e1a4211a-6d42-4ac6-f1f4-744e2a791cb9"
      },
      "source": [
        "app_d.describe()"
      ],
      "execution_count": 3,
      "outputs": [
        {
          "output_type": "execute_result",
          "data": {
            "text/html": [
              "<div>\n",
              "<style scoped>\n",
              "    .dataframe tbody tr th:only-of-type {\n",
              "        vertical-align: middle;\n",
              "    }\n",
              "\n",
              "    .dataframe tbody tr th {\n",
              "        vertical-align: top;\n",
              "    }\n",
              "\n",
              "    .dataframe thead th {\n",
              "        text-align: right;\n",
              "    }\n",
              "</style>\n",
              "<table border=\"1\" class=\"dataframe\">\n",
              "  <thead>\n",
              "    <tr style=\"text-align: right;\">\n",
              "      <th></th>\n",
              "      <th>SK_ID_CURR</th>\n",
              "      <th>TARGET</th>\n",
              "      <th>CNT_CHILDREN</th>\n",
              "      <th>AMT_INCOME_TOTAL</th>\n",
              "      <th>AMT_CREDIT</th>\n",
              "      <th>AMT_ANNUITY</th>\n",
              "      <th>AMT_GOODS_PRICE</th>\n",
              "      <th>REGION_POPULATION_RELATIVE</th>\n",
              "      <th>DAYS_BIRTH</th>\n",
              "      <th>DAYS_EMPLOYED</th>\n",
              "      <th>DAYS_REGISTRATION</th>\n",
              "      <th>DAYS_ID_PUBLISH</th>\n",
              "      <th>OWN_CAR_AGE</th>\n",
              "      <th>FLAG_MOBIL</th>\n",
              "      <th>FLAG_EMP_PHONE</th>\n",
              "      <th>FLAG_WORK_PHONE</th>\n",
              "      <th>FLAG_CONT_MOBILE</th>\n",
              "      <th>FLAG_PHONE</th>\n",
              "      <th>FLAG_EMAIL</th>\n",
              "      <th>CNT_FAM_MEMBERS</th>\n",
              "      <th>REGION_RATING_CLIENT</th>\n",
              "      <th>REGION_RATING_CLIENT_W_CITY</th>\n",
              "      <th>HOUR_APPR_PROCESS_START</th>\n",
              "      <th>REG_REGION_NOT_LIVE_REGION</th>\n",
              "      <th>REG_REGION_NOT_WORK_REGION</th>\n",
              "      <th>LIVE_REGION_NOT_WORK_REGION</th>\n",
              "      <th>REG_CITY_NOT_LIVE_CITY</th>\n",
              "      <th>REG_CITY_NOT_WORK_CITY</th>\n",
              "      <th>LIVE_CITY_NOT_WORK_CITY</th>\n",
              "      <th>EXT_SOURCE_1</th>\n",
              "      <th>EXT_SOURCE_2</th>\n",
              "      <th>EXT_SOURCE_3</th>\n",
              "      <th>APARTMENTS_AVG</th>\n",
              "      <th>BASEMENTAREA_AVG</th>\n",
              "      <th>YEARS_BEGINEXPLUATATION_AVG</th>\n",
              "      <th>YEARS_BUILD_AVG</th>\n",
              "      <th>COMMONAREA_AVG</th>\n",
              "      <th>ELEVATORS_AVG</th>\n",
              "      <th>ENTRANCES_AVG</th>\n",
              "      <th>FLOORSMAX_AVG</th>\n",
              "      <th>...</th>\n",
              "      <th>ENTRANCES_MEDI</th>\n",
              "      <th>FLOORSMAX_MEDI</th>\n",
              "      <th>FLOORSMIN_MEDI</th>\n",
              "      <th>LANDAREA_MEDI</th>\n",
              "      <th>LIVINGAPARTMENTS_MEDI</th>\n",
              "      <th>LIVINGAREA_MEDI</th>\n",
              "      <th>NONLIVINGAPARTMENTS_MEDI</th>\n",
              "      <th>NONLIVINGAREA_MEDI</th>\n",
              "      <th>TOTALAREA_MODE</th>\n",
              "      <th>OBS_30_CNT_SOCIAL_CIRCLE</th>\n",
              "      <th>DEF_30_CNT_SOCIAL_CIRCLE</th>\n",
              "      <th>OBS_60_CNT_SOCIAL_CIRCLE</th>\n",
              "      <th>DEF_60_CNT_SOCIAL_CIRCLE</th>\n",
              "      <th>DAYS_LAST_PHONE_CHANGE</th>\n",
              "      <th>FLAG_DOCUMENT_2</th>\n",
              "      <th>FLAG_DOCUMENT_3</th>\n",
              "      <th>FLAG_DOCUMENT_4</th>\n",
              "      <th>FLAG_DOCUMENT_5</th>\n",
              "      <th>FLAG_DOCUMENT_6</th>\n",
              "      <th>FLAG_DOCUMENT_7</th>\n",
              "      <th>FLAG_DOCUMENT_8</th>\n",
              "      <th>FLAG_DOCUMENT_9</th>\n",
              "      <th>FLAG_DOCUMENT_10</th>\n",
              "      <th>FLAG_DOCUMENT_11</th>\n",
              "      <th>FLAG_DOCUMENT_12</th>\n",
              "      <th>FLAG_DOCUMENT_13</th>\n",
              "      <th>FLAG_DOCUMENT_14</th>\n",
              "      <th>FLAG_DOCUMENT_15</th>\n",
              "      <th>FLAG_DOCUMENT_16</th>\n",
              "      <th>FLAG_DOCUMENT_17</th>\n",
              "      <th>FLAG_DOCUMENT_18</th>\n",
              "      <th>FLAG_DOCUMENT_19</th>\n",
              "      <th>FLAG_DOCUMENT_20</th>\n",
              "      <th>FLAG_DOCUMENT_21</th>\n",
              "      <th>AMT_REQ_CREDIT_BUREAU_HOUR</th>\n",
              "      <th>AMT_REQ_CREDIT_BUREAU_DAY</th>\n",
              "      <th>AMT_REQ_CREDIT_BUREAU_WEEK</th>\n",
              "      <th>AMT_REQ_CREDIT_BUREAU_MON</th>\n",
              "      <th>AMT_REQ_CREDIT_BUREAU_QRT</th>\n",
              "      <th>AMT_REQ_CREDIT_BUREAU_YEAR</th>\n",
              "    </tr>\n",
              "  </thead>\n",
              "  <tbody>\n",
              "    <tr>\n",
              "      <th>count</th>\n",
              "      <td>307511.000000</td>\n",
              "      <td>307511.000000</td>\n",
              "      <td>307511.000000</td>\n",
              "      <td>3.075110e+05</td>\n",
              "      <td>3.075110e+05</td>\n",
              "      <td>307499.000000</td>\n",
              "      <td>3.072330e+05</td>\n",
              "      <td>307511.000000</td>\n",
              "      <td>307511.000000</td>\n",
              "      <td>307511.000000</td>\n",
              "      <td>307511.000000</td>\n",
              "      <td>307511.000000</td>\n",
              "      <td>104582.000000</td>\n",
              "      <td>307511.000000</td>\n",
              "      <td>307511.000000</td>\n",
              "      <td>307511.000000</td>\n",
              "      <td>307511.000000</td>\n",
              "      <td>307511.000000</td>\n",
              "      <td>307511.000000</td>\n",
              "      <td>307509.000000</td>\n",
              "      <td>307511.000000</td>\n",
              "      <td>307511.000000</td>\n",
              "      <td>307511.000000</td>\n",
              "      <td>307511.000000</td>\n",
              "      <td>307511.000000</td>\n",
              "      <td>307511.000000</td>\n",
              "      <td>307511.000000</td>\n",
              "      <td>307511.000000</td>\n",
              "      <td>307511.000000</td>\n",
              "      <td>134133.000000</td>\n",
              "      <td>3.068510e+05</td>\n",
              "      <td>246546.000000</td>\n",
              "      <td>151450.00000</td>\n",
              "      <td>127568.000000</td>\n",
              "      <td>157504.000000</td>\n",
              "      <td>103023.000000</td>\n",
              "      <td>92646.000000</td>\n",
              "      <td>143620.000000</td>\n",
              "      <td>152683.000000</td>\n",
              "      <td>154491.000000</td>\n",
              "      <td>...</td>\n",
              "      <td>152683.000000</td>\n",
              "      <td>154491.000000</td>\n",
              "      <td>98869.000000</td>\n",
              "      <td>124921.000000</td>\n",
              "      <td>97312.000000</td>\n",
              "      <td>153161.000000</td>\n",
              "      <td>93997.000000</td>\n",
              "      <td>137829.000000</td>\n",
              "      <td>159080.000000</td>\n",
              "      <td>306490.000000</td>\n",
              "      <td>306490.000000</td>\n",
              "      <td>306490.000000</td>\n",
              "      <td>306490.000000</td>\n",
              "      <td>307510.000000</td>\n",
              "      <td>307511.000000</td>\n",
              "      <td>307511.000000</td>\n",
              "      <td>307511.000000</td>\n",
              "      <td>307511.000000</td>\n",
              "      <td>307511.000000</td>\n",
              "      <td>307511.000000</td>\n",
              "      <td>307511.000000</td>\n",
              "      <td>307511.000000</td>\n",
              "      <td>307511.000000</td>\n",
              "      <td>307511.000000</td>\n",
              "      <td>307511.000000</td>\n",
              "      <td>307511.000000</td>\n",
              "      <td>307511.000000</td>\n",
              "      <td>307511.00000</td>\n",
              "      <td>307511.000000</td>\n",
              "      <td>307511.000000</td>\n",
              "      <td>307511.000000</td>\n",
              "      <td>307511.000000</td>\n",
              "      <td>307511.000000</td>\n",
              "      <td>307511.000000</td>\n",
              "      <td>265992.000000</td>\n",
              "      <td>265992.000000</td>\n",
              "      <td>265992.000000</td>\n",
              "      <td>265992.000000</td>\n",
              "      <td>265992.000000</td>\n",
              "      <td>265992.000000</td>\n",
              "    </tr>\n",
              "    <tr>\n",
              "      <th>mean</th>\n",
              "      <td>278180.518577</td>\n",
              "      <td>0.080729</td>\n",
              "      <td>0.417052</td>\n",
              "      <td>1.687979e+05</td>\n",
              "      <td>5.990260e+05</td>\n",
              "      <td>27108.573909</td>\n",
              "      <td>5.383962e+05</td>\n",
              "      <td>0.020868</td>\n",
              "      <td>-16036.995067</td>\n",
              "      <td>63815.045904</td>\n",
              "      <td>-4986.120328</td>\n",
              "      <td>-2994.202373</td>\n",
              "      <td>12.061091</td>\n",
              "      <td>0.999997</td>\n",
              "      <td>0.819889</td>\n",
              "      <td>0.199368</td>\n",
              "      <td>0.998133</td>\n",
              "      <td>0.281066</td>\n",
              "      <td>0.056720</td>\n",
              "      <td>2.152665</td>\n",
              "      <td>2.052463</td>\n",
              "      <td>2.031521</td>\n",
              "      <td>12.063419</td>\n",
              "      <td>0.015144</td>\n",
              "      <td>0.050769</td>\n",
              "      <td>0.040659</td>\n",
              "      <td>0.078173</td>\n",
              "      <td>0.230454</td>\n",
              "      <td>0.179555</td>\n",
              "      <td>0.502130</td>\n",
              "      <td>5.143927e-01</td>\n",
              "      <td>0.510853</td>\n",
              "      <td>0.11744</td>\n",
              "      <td>0.088442</td>\n",
              "      <td>0.977735</td>\n",
              "      <td>0.752471</td>\n",
              "      <td>0.044621</td>\n",
              "      <td>0.078942</td>\n",
              "      <td>0.149725</td>\n",
              "      <td>0.226282</td>\n",
              "      <td>...</td>\n",
              "      <td>0.149213</td>\n",
              "      <td>0.225897</td>\n",
              "      <td>0.231625</td>\n",
              "      <td>0.067169</td>\n",
              "      <td>0.101954</td>\n",
              "      <td>0.108607</td>\n",
              "      <td>0.008651</td>\n",
              "      <td>0.028236</td>\n",
              "      <td>0.102547</td>\n",
              "      <td>1.422245</td>\n",
              "      <td>0.143421</td>\n",
              "      <td>1.405292</td>\n",
              "      <td>0.100049</td>\n",
              "      <td>-962.858788</td>\n",
              "      <td>0.000042</td>\n",
              "      <td>0.710023</td>\n",
              "      <td>0.000081</td>\n",
              "      <td>0.015115</td>\n",
              "      <td>0.088055</td>\n",
              "      <td>0.000192</td>\n",
              "      <td>0.081376</td>\n",
              "      <td>0.003896</td>\n",
              "      <td>0.000023</td>\n",
              "      <td>0.003912</td>\n",
              "      <td>0.000007</td>\n",
              "      <td>0.003525</td>\n",
              "      <td>0.002936</td>\n",
              "      <td>0.00121</td>\n",
              "      <td>0.009928</td>\n",
              "      <td>0.000267</td>\n",
              "      <td>0.008130</td>\n",
              "      <td>0.000595</td>\n",
              "      <td>0.000507</td>\n",
              "      <td>0.000335</td>\n",
              "      <td>0.006402</td>\n",
              "      <td>0.007000</td>\n",
              "      <td>0.034362</td>\n",
              "      <td>0.267395</td>\n",
              "      <td>0.265474</td>\n",
              "      <td>1.899974</td>\n",
              "    </tr>\n",
              "    <tr>\n",
              "      <th>std</th>\n",
              "      <td>102790.175348</td>\n",
              "      <td>0.272419</td>\n",
              "      <td>0.722121</td>\n",
              "      <td>2.371231e+05</td>\n",
              "      <td>4.024908e+05</td>\n",
              "      <td>14493.737315</td>\n",
              "      <td>3.694465e+05</td>\n",
              "      <td>0.013831</td>\n",
              "      <td>4363.988632</td>\n",
              "      <td>141275.766519</td>\n",
              "      <td>3522.886321</td>\n",
              "      <td>1509.450419</td>\n",
              "      <td>11.944812</td>\n",
              "      <td>0.001803</td>\n",
              "      <td>0.384280</td>\n",
              "      <td>0.399526</td>\n",
              "      <td>0.043164</td>\n",
              "      <td>0.449521</td>\n",
              "      <td>0.231307</td>\n",
              "      <td>0.910682</td>\n",
              "      <td>0.509034</td>\n",
              "      <td>0.502737</td>\n",
              "      <td>3.265832</td>\n",
              "      <td>0.122126</td>\n",
              "      <td>0.219526</td>\n",
              "      <td>0.197499</td>\n",
              "      <td>0.268444</td>\n",
              "      <td>0.421124</td>\n",
              "      <td>0.383817</td>\n",
              "      <td>0.211062</td>\n",
              "      <td>1.910602e-01</td>\n",
              "      <td>0.194844</td>\n",
              "      <td>0.10824</td>\n",
              "      <td>0.082438</td>\n",
              "      <td>0.059223</td>\n",
              "      <td>0.113280</td>\n",
              "      <td>0.076036</td>\n",
              "      <td>0.134576</td>\n",
              "      <td>0.100049</td>\n",
              "      <td>0.144641</td>\n",
              "      <td>...</td>\n",
              "      <td>0.100368</td>\n",
              "      <td>0.145067</td>\n",
              "      <td>0.161934</td>\n",
              "      <td>0.082167</td>\n",
              "      <td>0.093642</td>\n",
              "      <td>0.112260</td>\n",
              "      <td>0.047415</td>\n",
              "      <td>0.070166</td>\n",
              "      <td>0.107462</td>\n",
              "      <td>2.400989</td>\n",
              "      <td>0.446698</td>\n",
              "      <td>2.379803</td>\n",
              "      <td>0.362291</td>\n",
              "      <td>826.808487</td>\n",
              "      <td>0.006502</td>\n",
              "      <td>0.453752</td>\n",
              "      <td>0.009016</td>\n",
              "      <td>0.122010</td>\n",
              "      <td>0.283376</td>\n",
              "      <td>0.013850</td>\n",
              "      <td>0.273412</td>\n",
              "      <td>0.062295</td>\n",
              "      <td>0.004771</td>\n",
              "      <td>0.062424</td>\n",
              "      <td>0.002550</td>\n",
              "      <td>0.059268</td>\n",
              "      <td>0.054110</td>\n",
              "      <td>0.03476</td>\n",
              "      <td>0.099144</td>\n",
              "      <td>0.016327</td>\n",
              "      <td>0.089798</td>\n",
              "      <td>0.024387</td>\n",
              "      <td>0.022518</td>\n",
              "      <td>0.018299</td>\n",
              "      <td>0.083849</td>\n",
              "      <td>0.110757</td>\n",
              "      <td>0.204685</td>\n",
              "      <td>0.916002</td>\n",
              "      <td>0.794056</td>\n",
              "      <td>1.869295</td>\n",
              "    </tr>\n",
              "    <tr>\n",
              "      <th>min</th>\n",
              "      <td>100002.000000</td>\n",
              "      <td>0.000000</td>\n",
              "      <td>0.000000</td>\n",
              "      <td>2.565000e+04</td>\n",
              "      <td>4.500000e+04</td>\n",
              "      <td>1615.500000</td>\n",
              "      <td>4.050000e+04</td>\n",
              "      <td>0.000290</td>\n",
              "      <td>-25229.000000</td>\n",
              "      <td>-17912.000000</td>\n",
              "      <td>-24672.000000</td>\n",
              "      <td>-7197.000000</td>\n",
              "      <td>0.000000</td>\n",
              "      <td>0.000000</td>\n",
              "      <td>0.000000</td>\n",
              "      <td>0.000000</td>\n",
              "      <td>0.000000</td>\n",
              "      <td>0.000000</td>\n",
              "      <td>0.000000</td>\n",
              "      <td>1.000000</td>\n",
              "      <td>1.000000</td>\n",
              "      <td>1.000000</td>\n",
              "      <td>0.000000</td>\n",
              "      <td>0.000000</td>\n",
              "      <td>0.000000</td>\n",
              "      <td>0.000000</td>\n",
              "      <td>0.000000</td>\n",
              "      <td>0.000000</td>\n",
              "      <td>0.000000</td>\n",
              "      <td>0.014568</td>\n",
              "      <td>8.173617e-08</td>\n",
              "      <td>0.000527</td>\n",
              "      <td>0.00000</td>\n",
              "      <td>0.000000</td>\n",
              "      <td>0.000000</td>\n",
              "      <td>0.000000</td>\n",
              "      <td>0.000000</td>\n",
              "      <td>0.000000</td>\n",
              "      <td>0.000000</td>\n",
              "      <td>0.000000</td>\n",
              "      <td>...</td>\n",
              "      <td>0.000000</td>\n",
              "      <td>0.000000</td>\n",
              "      <td>0.000000</td>\n",
              "      <td>0.000000</td>\n",
              "      <td>0.000000</td>\n",
              "      <td>0.000000</td>\n",
              "      <td>0.000000</td>\n",
              "      <td>0.000000</td>\n",
              "      <td>0.000000</td>\n",
              "      <td>0.000000</td>\n",
              "      <td>0.000000</td>\n",
              "      <td>0.000000</td>\n",
              "      <td>0.000000</td>\n",
              "      <td>-4292.000000</td>\n",
              "      <td>0.000000</td>\n",
              "      <td>0.000000</td>\n",
              "      <td>0.000000</td>\n",
              "      <td>0.000000</td>\n",
              "      <td>0.000000</td>\n",
              "      <td>0.000000</td>\n",
              "      <td>0.000000</td>\n",
              "      <td>0.000000</td>\n",
              "      <td>0.000000</td>\n",
              "      <td>0.000000</td>\n",
              "      <td>0.000000</td>\n",
              "      <td>0.000000</td>\n",
              "      <td>0.000000</td>\n",
              "      <td>0.00000</td>\n",
              "      <td>0.000000</td>\n",
              "      <td>0.000000</td>\n",
              "      <td>0.000000</td>\n",
              "      <td>0.000000</td>\n",
              "      <td>0.000000</td>\n",
              "      <td>0.000000</td>\n",
              "      <td>0.000000</td>\n",
              "      <td>0.000000</td>\n",
              "      <td>0.000000</td>\n",
              "      <td>0.000000</td>\n",
              "      <td>0.000000</td>\n",
              "      <td>0.000000</td>\n",
              "    </tr>\n",
              "    <tr>\n",
              "      <th>25%</th>\n",
              "      <td>189145.500000</td>\n",
              "      <td>0.000000</td>\n",
              "      <td>0.000000</td>\n",
              "      <td>1.125000e+05</td>\n",
              "      <td>2.700000e+05</td>\n",
              "      <td>16524.000000</td>\n",
              "      <td>2.385000e+05</td>\n",
              "      <td>0.010006</td>\n",
              "      <td>-19682.000000</td>\n",
              "      <td>-2760.000000</td>\n",
              "      <td>-7479.500000</td>\n",
              "      <td>-4299.000000</td>\n",
              "      <td>5.000000</td>\n",
              "      <td>1.000000</td>\n",
              "      <td>1.000000</td>\n",
              "      <td>0.000000</td>\n",
              "      <td>1.000000</td>\n",
              "      <td>0.000000</td>\n",
              "      <td>0.000000</td>\n",
              "      <td>2.000000</td>\n",
              "      <td>2.000000</td>\n",
              "      <td>2.000000</td>\n",
              "      <td>10.000000</td>\n",
              "      <td>0.000000</td>\n",
              "      <td>0.000000</td>\n",
              "      <td>0.000000</td>\n",
              "      <td>0.000000</td>\n",
              "      <td>0.000000</td>\n",
              "      <td>0.000000</td>\n",
              "      <td>0.334007</td>\n",
              "      <td>3.924574e-01</td>\n",
              "      <td>0.370650</td>\n",
              "      <td>0.05770</td>\n",
              "      <td>0.044200</td>\n",
              "      <td>0.976700</td>\n",
              "      <td>0.687200</td>\n",
              "      <td>0.007800</td>\n",
              "      <td>0.000000</td>\n",
              "      <td>0.069000</td>\n",
              "      <td>0.166700</td>\n",
              "      <td>...</td>\n",
              "      <td>0.069000</td>\n",
              "      <td>0.166700</td>\n",
              "      <td>0.083300</td>\n",
              "      <td>0.018700</td>\n",
              "      <td>0.051300</td>\n",
              "      <td>0.045700</td>\n",
              "      <td>0.000000</td>\n",
              "      <td>0.000000</td>\n",
              "      <td>0.041200</td>\n",
              "      <td>0.000000</td>\n",
              "      <td>0.000000</td>\n",
              "      <td>0.000000</td>\n",
              "      <td>0.000000</td>\n",
              "      <td>-1570.000000</td>\n",
              "      <td>0.000000</td>\n",
              "      <td>0.000000</td>\n",
              "      <td>0.000000</td>\n",
              "      <td>0.000000</td>\n",
              "      <td>0.000000</td>\n",
              "      <td>0.000000</td>\n",
              "      <td>0.000000</td>\n",
              "      <td>0.000000</td>\n",
              "      <td>0.000000</td>\n",
              "      <td>0.000000</td>\n",
              "      <td>0.000000</td>\n",
              "      <td>0.000000</td>\n",
              "      <td>0.000000</td>\n",
              "      <td>0.00000</td>\n",
              "      <td>0.000000</td>\n",
              "      <td>0.000000</td>\n",
              "      <td>0.000000</td>\n",
              "      <td>0.000000</td>\n",
              "      <td>0.000000</td>\n",
              "      <td>0.000000</td>\n",
              "      <td>0.000000</td>\n",
              "      <td>0.000000</td>\n",
              "      <td>0.000000</td>\n",
              "      <td>0.000000</td>\n",
              "      <td>0.000000</td>\n",
              "      <td>0.000000</td>\n",
              "    </tr>\n",
              "    <tr>\n",
              "      <th>50%</th>\n",
              "      <td>278202.000000</td>\n",
              "      <td>0.000000</td>\n",
              "      <td>0.000000</td>\n",
              "      <td>1.471500e+05</td>\n",
              "      <td>5.135310e+05</td>\n",
              "      <td>24903.000000</td>\n",
              "      <td>4.500000e+05</td>\n",
              "      <td>0.018850</td>\n",
              "      <td>-15750.000000</td>\n",
              "      <td>-1213.000000</td>\n",
              "      <td>-4504.000000</td>\n",
              "      <td>-3254.000000</td>\n",
              "      <td>9.000000</td>\n",
              "      <td>1.000000</td>\n",
              "      <td>1.000000</td>\n",
              "      <td>0.000000</td>\n",
              "      <td>1.000000</td>\n",
              "      <td>0.000000</td>\n",
              "      <td>0.000000</td>\n",
              "      <td>2.000000</td>\n",
              "      <td>2.000000</td>\n",
              "      <td>2.000000</td>\n",
              "      <td>12.000000</td>\n",
              "      <td>0.000000</td>\n",
              "      <td>0.000000</td>\n",
              "      <td>0.000000</td>\n",
              "      <td>0.000000</td>\n",
              "      <td>0.000000</td>\n",
              "      <td>0.000000</td>\n",
              "      <td>0.505998</td>\n",
              "      <td>5.659614e-01</td>\n",
              "      <td>0.535276</td>\n",
              "      <td>0.08760</td>\n",
              "      <td>0.076300</td>\n",
              "      <td>0.981600</td>\n",
              "      <td>0.755200</td>\n",
              "      <td>0.021100</td>\n",
              "      <td>0.000000</td>\n",
              "      <td>0.137900</td>\n",
              "      <td>0.166700</td>\n",
              "      <td>...</td>\n",
              "      <td>0.137900</td>\n",
              "      <td>0.166700</td>\n",
              "      <td>0.208300</td>\n",
              "      <td>0.048700</td>\n",
              "      <td>0.076100</td>\n",
              "      <td>0.074900</td>\n",
              "      <td>0.000000</td>\n",
              "      <td>0.003100</td>\n",
              "      <td>0.068800</td>\n",
              "      <td>0.000000</td>\n",
              "      <td>0.000000</td>\n",
              "      <td>0.000000</td>\n",
              "      <td>0.000000</td>\n",
              "      <td>-757.000000</td>\n",
              "      <td>0.000000</td>\n",
              "      <td>1.000000</td>\n",
              "      <td>0.000000</td>\n",
              "      <td>0.000000</td>\n",
              "      <td>0.000000</td>\n",
              "      <td>0.000000</td>\n",
              "      <td>0.000000</td>\n",
              "      <td>0.000000</td>\n",
              "      <td>0.000000</td>\n",
              "      <td>0.000000</td>\n",
              "      <td>0.000000</td>\n",
              "      <td>0.000000</td>\n",
              "      <td>0.000000</td>\n",
              "      <td>0.00000</td>\n",
              "      <td>0.000000</td>\n",
              "      <td>0.000000</td>\n",
              "      <td>0.000000</td>\n",
              "      <td>0.000000</td>\n",
              "      <td>0.000000</td>\n",
              "      <td>0.000000</td>\n",
              "      <td>0.000000</td>\n",
              "      <td>0.000000</td>\n",
              "      <td>0.000000</td>\n",
              "      <td>0.000000</td>\n",
              "      <td>0.000000</td>\n",
              "      <td>1.000000</td>\n",
              "    </tr>\n",
              "    <tr>\n",
              "      <th>75%</th>\n",
              "      <td>367142.500000</td>\n",
              "      <td>0.000000</td>\n",
              "      <td>1.000000</td>\n",
              "      <td>2.025000e+05</td>\n",
              "      <td>8.086500e+05</td>\n",
              "      <td>34596.000000</td>\n",
              "      <td>6.795000e+05</td>\n",
              "      <td>0.028663</td>\n",
              "      <td>-12413.000000</td>\n",
              "      <td>-289.000000</td>\n",
              "      <td>-2010.000000</td>\n",
              "      <td>-1720.000000</td>\n",
              "      <td>15.000000</td>\n",
              "      <td>1.000000</td>\n",
              "      <td>1.000000</td>\n",
              "      <td>0.000000</td>\n",
              "      <td>1.000000</td>\n",
              "      <td>1.000000</td>\n",
              "      <td>0.000000</td>\n",
              "      <td>3.000000</td>\n",
              "      <td>2.000000</td>\n",
              "      <td>2.000000</td>\n",
              "      <td>14.000000</td>\n",
              "      <td>0.000000</td>\n",
              "      <td>0.000000</td>\n",
              "      <td>0.000000</td>\n",
              "      <td>0.000000</td>\n",
              "      <td>0.000000</td>\n",
              "      <td>0.000000</td>\n",
              "      <td>0.675053</td>\n",
              "      <td>6.636171e-01</td>\n",
              "      <td>0.669057</td>\n",
              "      <td>0.14850</td>\n",
              "      <td>0.112200</td>\n",
              "      <td>0.986600</td>\n",
              "      <td>0.823200</td>\n",
              "      <td>0.051500</td>\n",
              "      <td>0.120000</td>\n",
              "      <td>0.206900</td>\n",
              "      <td>0.333300</td>\n",
              "      <td>...</td>\n",
              "      <td>0.206900</td>\n",
              "      <td>0.333300</td>\n",
              "      <td>0.375000</td>\n",
              "      <td>0.086800</td>\n",
              "      <td>0.123100</td>\n",
              "      <td>0.130300</td>\n",
              "      <td>0.003900</td>\n",
              "      <td>0.026600</td>\n",
              "      <td>0.127600</td>\n",
              "      <td>2.000000</td>\n",
              "      <td>0.000000</td>\n",
              "      <td>2.000000</td>\n",
              "      <td>0.000000</td>\n",
              "      <td>-274.000000</td>\n",
              "      <td>0.000000</td>\n",
              "      <td>1.000000</td>\n",
              "      <td>0.000000</td>\n",
              "      <td>0.000000</td>\n",
              "      <td>0.000000</td>\n",
              "      <td>0.000000</td>\n",
              "      <td>0.000000</td>\n",
              "      <td>0.000000</td>\n",
              "      <td>0.000000</td>\n",
              "      <td>0.000000</td>\n",
              "      <td>0.000000</td>\n",
              "      <td>0.000000</td>\n",
              "      <td>0.000000</td>\n",
              "      <td>0.00000</td>\n",
              "      <td>0.000000</td>\n",
              "      <td>0.000000</td>\n",
              "      <td>0.000000</td>\n",
              "      <td>0.000000</td>\n",
              "      <td>0.000000</td>\n",
              "      <td>0.000000</td>\n",
              "      <td>0.000000</td>\n",
              "      <td>0.000000</td>\n",
              "      <td>0.000000</td>\n",
              "      <td>0.000000</td>\n",
              "      <td>0.000000</td>\n",
              "      <td>3.000000</td>\n",
              "    </tr>\n",
              "    <tr>\n",
              "      <th>max</th>\n",
              "      <td>456255.000000</td>\n",
              "      <td>1.000000</td>\n",
              "      <td>19.000000</td>\n",
              "      <td>1.170000e+08</td>\n",
              "      <td>4.050000e+06</td>\n",
              "      <td>258025.500000</td>\n",
              "      <td>4.050000e+06</td>\n",
              "      <td>0.072508</td>\n",
              "      <td>-7489.000000</td>\n",
              "      <td>365243.000000</td>\n",
              "      <td>0.000000</td>\n",
              "      <td>0.000000</td>\n",
              "      <td>91.000000</td>\n",
              "      <td>1.000000</td>\n",
              "      <td>1.000000</td>\n",
              "      <td>1.000000</td>\n",
              "      <td>1.000000</td>\n",
              "      <td>1.000000</td>\n",
              "      <td>1.000000</td>\n",
              "      <td>20.000000</td>\n",
              "      <td>3.000000</td>\n",
              "      <td>3.000000</td>\n",
              "      <td>23.000000</td>\n",
              "      <td>1.000000</td>\n",
              "      <td>1.000000</td>\n",
              "      <td>1.000000</td>\n",
              "      <td>1.000000</td>\n",
              "      <td>1.000000</td>\n",
              "      <td>1.000000</td>\n",
              "      <td>0.962693</td>\n",
              "      <td>8.549997e-01</td>\n",
              "      <td>0.896010</td>\n",
              "      <td>1.00000</td>\n",
              "      <td>1.000000</td>\n",
              "      <td>1.000000</td>\n",
              "      <td>1.000000</td>\n",
              "      <td>1.000000</td>\n",
              "      <td>1.000000</td>\n",
              "      <td>1.000000</td>\n",
              "      <td>1.000000</td>\n",
              "      <td>...</td>\n",
              "      <td>1.000000</td>\n",
              "      <td>1.000000</td>\n",
              "      <td>1.000000</td>\n",
              "      <td>1.000000</td>\n",
              "      <td>1.000000</td>\n",
              "      <td>1.000000</td>\n",
              "      <td>1.000000</td>\n",
              "      <td>1.000000</td>\n",
              "      <td>1.000000</td>\n",
              "      <td>348.000000</td>\n",
              "      <td>34.000000</td>\n",
              "      <td>344.000000</td>\n",
              "      <td>24.000000</td>\n",
              "      <td>0.000000</td>\n",
              "      <td>1.000000</td>\n",
              "      <td>1.000000</td>\n",
              "      <td>1.000000</td>\n",
              "      <td>1.000000</td>\n",
              "      <td>1.000000</td>\n",
              "      <td>1.000000</td>\n",
              "      <td>1.000000</td>\n",
              "      <td>1.000000</td>\n",
              "      <td>1.000000</td>\n",
              "      <td>1.000000</td>\n",
              "      <td>1.000000</td>\n",
              "      <td>1.000000</td>\n",
              "      <td>1.000000</td>\n",
              "      <td>1.00000</td>\n",
              "      <td>1.000000</td>\n",
              "      <td>1.000000</td>\n",
              "      <td>1.000000</td>\n",
              "      <td>1.000000</td>\n",
              "      <td>1.000000</td>\n",
              "      <td>1.000000</td>\n",
              "      <td>4.000000</td>\n",
              "      <td>9.000000</td>\n",
              "      <td>8.000000</td>\n",
              "      <td>27.000000</td>\n",
              "      <td>261.000000</td>\n",
              "      <td>25.000000</td>\n",
              "    </tr>\n",
              "  </tbody>\n",
              "</table>\n",
              "<p>8 rows × 106 columns</p>\n",
              "</div>"
            ],
            "text/plain": [
              "          SK_ID_CURR  ...  AMT_REQ_CREDIT_BUREAU_YEAR\n",
              "count  307511.000000  ...               265992.000000\n",
              "mean   278180.518577  ...                    1.899974\n",
              "std    102790.175348  ...                    1.869295\n",
              "min    100002.000000  ...                    0.000000\n",
              "25%    189145.500000  ...                    0.000000\n",
              "50%    278202.000000  ...                    1.000000\n",
              "75%    367142.500000  ...                    3.000000\n",
              "max    456255.000000  ...                   25.000000\n",
              "\n",
              "[8 rows x 106 columns]"
            ]
          },
          "metadata": {
            "tags": []
          },
          "execution_count": 3
        }
      ]
    },
    {
      "cell_type": "code",
      "metadata": {
        "colab": {
          "base_uri": "https://localhost:8080/",
          "height": 315
        },
        "id": "tH2Tv_LqHRfy",
        "outputId": "0633ac1b-7095-4df6-d38a-d02bcc6f402d"
      },
      "source": [
        "pre_d.describe()"
      ],
      "execution_count": 4,
      "outputs": [
        {
          "output_type": "execute_result",
          "data": {
            "text/html": [
              "<div>\n",
              "<style scoped>\n",
              "    .dataframe tbody tr th:only-of-type {\n",
              "        vertical-align: middle;\n",
              "    }\n",
              "\n",
              "    .dataframe tbody tr th {\n",
              "        vertical-align: top;\n",
              "    }\n",
              "\n",
              "    .dataframe thead th {\n",
              "        text-align: right;\n",
              "    }\n",
              "</style>\n",
              "<table border=\"1\" class=\"dataframe\">\n",
              "  <thead>\n",
              "    <tr style=\"text-align: right;\">\n",
              "      <th></th>\n",
              "      <th>SK_ID_PREV</th>\n",
              "      <th>SK_ID_CURR</th>\n",
              "      <th>AMT_ANNUITY</th>\n",
              "      <th>AMT_APPLICATION</th>\n",
              "      <th>AMT_CREDIT</th>\n",
              "      <th>AMT_DOWN_PAYMENT</th>\n",
              "      <th>AMT_GOODS_PRICE</th>\n",
              "      <th>HOUR_APPR_PROCESS_START</th>\n",
              "      <th>NFLAG_LAST_APPL_IN_DAY</th>\n",
              "      <th>RATE_DOWN_PAYMENT</th>\n",
              "      <th>RATE_INTEREST_PRIMARY</th>\n",
              "      <th>RATE_INTEREST_PRIVILEGED</th>\n",
              "      <th>DAYS_DECISION</th>\n",
              "      <th>SELLERPLACE_AREA</th>\n",
              "      <th>CNT_PAYMENT</th>\n",
              "      <th>DAYS_FIRST_DRAWING</th>\n",
              "      <th>DAYS_FIRST_DUE</th>\n",
              "      <th>DAYS_LAST_DUE_1ST_VERSION</th>\n",
              "      <th>DAYS_LAST_DUE</th>\n",
              "      <th>DAYS_TERMINATION</th>\n",
              "      <th>NFLAG_INSURED_ON_APPROVAL</th>\n",
              "    </tr>\n",
              "  </thead>\n",
              "  <tbody>\n",
              "    <tr>\n",
              "      <th>count</th>\n",
              "      <td>1.670214e+06</td>\n",
              "      <td>1.670214e+06</td>\n",
              "      <td>1.297979e+06</td>\n",
              "      <td>1.670214e+06</td>\n",
              "      <td>1.670213e+06</td>\n",
              "      <td>7.743700e+05</td>\n",
              "      <td>1.284699e+06</td>\n",
              "      <td>1.670214e+06</td>\n",
              "      <td>1.670214e+06</td>\n",
              "      <td>774370.000000</td>\n",
              "      <td>5951.000000</td>\n",
              "      <td>5951.000000</td>\n",
              "      <td>1.670214e+06</td>\n",
              "      <td>1.670214e+06</td>\n",
              "      <td>1.297984e+06</td>\n",
              "      <td>997149.000000</td>\n",
              "      <td>997149.000000</td>\n",
              "      <td>997149.000000</td>\n",
              "      <td>997149.000000</td>\n",
              "      <td>997149.000000</td>\n",
              "      <td>997149.000000</td>\n",
              "    </tr>\n",
              "    <tr>\n",
              "      <th>mean</th>\n",
              "      <td>1.923089e+06</td>\n",
              "      <td>2.783572e+05</td>\n",
              "      <td>1.595512e+04</td>\n",
              "      <td>1.752339e+05</td>\n",
              "      <td>1.961140e+05</td>\n",
              "      <td>6.697402e+03</td>\n",
              "      <td>2.278473e+05</td>\n",
              "      <td>1.248418e+01</td>\n",
              "      <td>9.964675e-01</td>\n",
              "      <td>0.079637</td>\n",
              "      <td>0.188357</td>\n",
              "      <td>0.773503</td>\n",
              "      <td>-8.806797e+02</td>\n",
              "      <td>3.139511e+02</td>\n",
              "      <td>1.605408e+01</td>\n",
              "      <td>342209.855039</td>\n",
              "      <td>13826.269337</td>\n",
              "      <td>33767.774054</td>\n",
              "      <td>76582.403064</td>\n",
              "      <td>81992.343838</td>\n",
              "      <td>0.332570</td>\n",
              "    </tr>\n",
              "    <tr>\n",
              "      <th>std</th>\n",
              "      <td>5.325980e+05</td>\n",
              "      <td>1.028148e+05</td>\n",
              "      <td>1.478214e+04</td>\n",
              "      <td>2.927798e+05</td>\n",
              "      <td>3.185746e+05</td>\n",
              "      <td>2.092150e+04</td>\n",
              "      <td>3.153966e+05</td>\n",
              "      <td>3.334028e+00</td>\n",
              "      <td>5.932963e-02</td>\n",
              "      <td>0.107823</td>\n",
              "      <td>0.087671</td>\n",
              "      <td>0.100879</td>\n",
              "      <td>7.790997e+02</td>\n",
              "      <td>7.127443e+03</td>\n",
              "      <td>1.456729e+01</td>\n",
              "      <td>88916.115834</td>\n",
              "      <td>72444.869708</td>\n",
              "      <td>106857.034789</td>\n",
              "      <td>149647.415123</td>\n",
              "      <td>153303.516729</td>\n",
              "      <td>0.471134</td>\n",
              "    </tr>\n",
              "    <tr>\n",
              "      <th>min</th>\n",
              "      <td>1.000001e+06</td>\n",
              "      <td>1.000010e+05</td>\n",
              "      <td>0.000000e+00</td>\n",
              "      <td>0.000000e+00</td>\n",
              "      <td>0.000000e+00</td>\n",
              "      <td>-9.000000e-01</td>\n",
              "      <td>0.000000e+00</td>\n",
              "      <td>0.000000e+00</td>\n",
              "      <td>0.000000e+00</td>\n",
              "      <td>-0.000015</td>\n",
              "      <td>0.034781</td>\n",
              "      <td>0.373150</td>\n",
              "      <td>-2.922000e+03</td>\n",
              "      <td>-1.000000e+00</td>\n",
              "      <td>0.000000e+00</td>\n",
              "      <td>-2922.000000</td>\n",
              "      <td>-2892.000000</td>\n",
              "      <td>-2801.000000</td>\n",
              "      <td>-2889.000000</td>\n",
              "      <td>-2874.000000</td>\n",
              "      <td>0.000000</td>\n",
              "    </tr>\n",
              "    <tr>\n",
              "      <th>25%</th>\n",
              "      <td>1.461857e+06</td>\n",
              "      <td>1.893290e+05</td>\n",
              "      <td>6.321780e+03</td>\n",
              "      <td>1.872000e+04</td>\n",
              "      <td>2.416050e+04</td>\n",
              "      <td>0.000000e+00</td>\n",
              "      <td>5.084100e+04</td>\n",
              "      <td>1.000000e+01</td>\n",
              "      <td>1.000000e+00</td>\n",
              "      <td>0.000000</td>\n",
              "      <td>0.160716</td>\n",
              "      <td>0.715645</td>\n",
              "      <td>-1.300000e+03</td>\n",
              "      <td>-1.000000e+00</td>\n",
              "      <td>6.000000e+00</td>\n",
              "      <td>365243.000000</td>\n",
              "      <td>-1628.000000</td>\n",
              "      <td>-1242.000000</td>\n",
              "      <td>-1314.000000</td>\n",
              "      <td>-1270.000000</td>\n",
              "      <td>0.000000</td>\n",
              "    </tr>\n",
              "    <tr>\n",
              "      <th>50%</th>\n",
              "      <td>1.923110e+06</td>\n",
              "      <td>2.787145e+05</td>\n",
              "      <td>1.125000e+04</td>\n",
              "      <td>7.104600e+04</td>\n",
              "      <td>8.054100e+04</td>\n",
              "      <td>1.638000e+03</td>\n",
              "      <td>1.123200e+05</td>\n",
              "      <td>1.200000e+01</td>\n",
              "      <td>1.000000e+00</td>\n",
              "      <td>0.051605</td>\n",
              "      <td>0.189122</td>\n",
              "      <td>0.835095</td>\n",
              "      <td>-5.810000e+02</td>\n",
              "      <td>3.000000e+00</td>\n",
              "      <td>1.200000e+01</td>\n",
              "      <td>365243.000000</td>\n",
              "      <td>-831.000000</td>\n",
              "      <td>-361.000000</td>\n",
              "      <td>-537.000000</td>\n",
              "      <td>-499.000000</td>\n",
              "      <td>0.000000</td>\n",
              "    </tr>\n",
              "    <tr>\n",
              "      <th>75%</th>\n",
              "      <td>2.384280e+06</td>\n",
              "      <td>3.675140e+05</td>\n",
              "      <td>2.065842e+04</td>\n",
              "      <td>1.803600e+05</td>\n",
              "      <td>2.164185e+05</td>\n",
              "      <td>7.740000e+03</td>\n",
              "      <td>2.340000e+05</td>\n",
              "      <td>1.500000e+01</td>\n",
              "      <td>1.000000e+00</td>\n",
              "      <td>0.108909</td>\n",
              "      <td>0.193330</td>\n",
              "      <td>0.852537</td>\n",
              "      <td>-2.800000e+02</td>\n",
              "      <td>8.200000e+01</td>\n",
              "      <td>2.400000e+01</td>\n",
              "      <td>365243.000000</td>\n",
              "      <td>-411.000000</td>\n",
              "      <td>129.000000</td>\n",
              "      <td>-74.000000</td>\n",
              "      <td>-44.000000</td>\n",
              "      <td>1.000000</td>\n",
              "    </tr>\n",
              "    <tr>\n",
              "      <th>max</th>\n",
              "      <td>2.845382e+06</td>\n",
              "      <td>4.562550e+05</td>\n",
              "      <td>4.180581e+05</td>\n",
              "      <td>6.905160e+06</td>\n",
              "      <td>6.905160e+06</td>\n",
              "      <td>3.060045e+06</td>\n",
              "      <td>6.905160e+06</td>\n",
              "      <td>2.300000e+01</td>\n",
              "      <td>1.000000e+00</td>\n",
              "      <td>1.000000</td>\n",
              "      <td>1.000000</td>\n",
              "      <td>1.000000</td>\n",
              "      <td>-1.000000e+00</td>\n",
              "      <td>4.000000e+06</td>\n",
              "      <td>8.400000e+01</td>\n",
              "      <td>365243.000000</td>\n",
              "      <td>365243.000000</td>\n",
              "      <td>365243.000000</td>\n",
              "      <td>365243.000000</td>\n",
              "      <td>365243.000000</td>\n",
              "      <td>1.000000</td>\n",
              "    </tr>\n",
              "  </tbody>\n",
              "</table>\n",
              "</div>"
            ],
            "text/plain": [
              "         SK_ID_PREV    SK_ID_CURR  ...  DAYS_TERMINATION  NFLAG_INSURED_ON_APPROVAL\n",
              "count  1.670214e+06  1.670214e+06  ...     997149.000000              997149.000000\n",
              "mean   1.923089e+06  2.783572e+05  ...      81992.343838                   0.332570\n",
              "std    5.325980e+05  1.028148e+05  ...     153303.516729                   0.471134\n",
              "min    1.000001e+06  1.000010e+05  ...      -2874.000000                   0.000000\n",
              "25%    1.461857e+06  1.893290e+05  ...      -1270.000000                   0.000000\n",
              "50%    1.923110e+06  2.787145e+05  ...       -499.000000                   0.000000\n",
              "75%    2.384280e+06  3.675140e+05  ...        -44.000000                   1.000000\n",
              "max    2.845382e+06  4.562550e+05  ...     365243.000000                   1.000000\n",
              "\n",
              "[8 rows x 21 columns]"
            ]
          },
          "metadata": {
            "tags": []
          },
          "execution_count": 4
        }
      ]
    },
    {
      "cell_type": "markdown",
      "metadata": {
        "id": "aka-60qLK7lb"
      },
      "source": [
        "### Preliminary analysis\n",
        "\n",
        "Includes both datasets"
      ]
    },
    {
      "cell_type": "markdown",
      "metadata": {
        "id": "yAb8F_s1gRUT"
      },
      "source": [
        "#### Application data"
      ]
    },
    {
      "cell_type": "code",
      "metadata": {
        "colab": {
          "base_uri": "https://localhost:8080/"
        },
        "id": "WF8Ip0PSIAeC",
        "outputId": "4da84225-de1e-4004-85cf-e715bf44eb4d"
      },
      "source": [
        "app_d.info()"
      ],
      "execution_count": 5,
      "outputs": [
        {
          "output_type": "stream",
          "text": [
            "<class 'pandas.core.frame.DataFrame'>\n",
            "RangeIndex: 307511 entries, 0 to 307510\n",
            "Columns: 122 entries, SK_ID_CURR to AMT_REQ_CREDIT_BUREAU_YEAR\n",
            "dtypes: float64(65), int64(41), object(16)\n",
            "memory usage: 286.2+ MB\n"
          ],
          "name": "stdout"
        }
      ]
    },
    {
      "cell_type": "code",
      "metadata": {
        "colab": {
          "base_uri": "https://localhost:8080/"
        },
        "id": "P08wpukTIb0z",
        "outputId": "4bc6ea0f-470e-4dbb-af41-0e96702a312a"
      },
      "source": [
        "# Data missing \n",
        "# Percentage of empty data in a columns for both data sets.\n",
        "# We'll Drop or ignore coulmns where missing value % is >50 in both data sets.\n",
        "# Assigning new values where columns are dropped for each data set\n",
        "ad1 = (app_d.isna().sum()/app_d.shape[0])*100\n",
        "round(ad1,2).sort_values(ascending =False)[0:50]\n"
      ],
      "execution_count": 6,
      "outputs": [
        {
          "output_type": "execute_result",
          "data": {
            "text/plain": [
              "COMMONAREA_MEDI                 69.87\n",
              "COMMONAREA_AVG                  69.87\n",
              "COMMONAREA_MODE                 69.87\n",
              "NONLIVINGAPARTMENTS_MODE        69.43\n",
              "NONLIVINGAPARTMENTS_MEDI        69.43\n",
              "NONLIVINGAPARTMENTS_AVG         69.43\n",
              "FONDKAPREMONT_MODE              68.39\n",
              "LIVINGAPARTMENTS_MEDI           68.35\n",
              "LIVINGAPARTMENTS_MODE           68.35\n",
              "LIVINGAPARTMENTS_AVG            68.35\n",
              "FLOORSMIN_MEDI                  67.85\n",
              "FLOORSMIN_MODE                  67.85\n",
              "FLOORSMIN_AVG                   67.85\n",
              "YEARS_BUILD_MEDI                66.50\n",
              "YEARS_BUILD_AVG                 66.50\n",
              "YEARS_BUILD_MODE                66.50\n",
              "OWN_CAR_AGE                     65.99\n",
              "LANDAREA_MODE                   59.38\n",
              "LANDAREA_AVG                    59.38\n",
              "LANDAREA_MEDI                   59.38\n",
              "BASEMENTAREA_MEDI               58.52\n",
              "BASEMENTAREA_AVG                58.52\n",
              "BASEMENTAREA_MODE               58.52\n",
              "EXT_SOURCE_1                    56.38\n",
              "NONLIVINGAREA_MEDI              55.18\n",
              "NONLIVINGAREA_AVG               55.18\n",
              "NONLIVINGAREA_MODE              55.18\n",
              "ELEVATORS_MODE                  53.30\n",
              "ELEVATORS_AVG                   53.30\n",
              "ELEVATORS_MEDI                  53.30\n",
              "WALLSMATERIAL_MODE              50.84\n",
              "APARTMENTS_MODE                 50.75\n",
              "APARTMENTS_AVG                  50.75\n",
              "APARTMENTS_MEDI                 50.75\n",
              "ENTRANCES_MEDI                  50.35\n",
              "ENTRANCES_MODE                  50.35\n",
              "ENTRANCES_AVG                   50.35\n",
              "LIVINGAREA_MEDI                 50.19\n",
              "LIVINGAREA_MODE                 50.19\n",
              "LIVINGAREA_AVG                  50.19\n",
              "HOUSETYPE_MODE                  50.18\n",
              "FLOORSMAX_MODE                  49.76\n",
              "FLOORSMAX_MEDI                  49.76\n",
              "FLOORSMAX_AVG                   49.76\n",
              "YEARS_BEGINEXPLUATATION_MEDI    48.78\n",
              "YEARS_BEGINEXPLUATATION_AVG     48.78\n",
              "YEARS_BEGINEXPLUATATION_MODE    48.78\n",
              "TOTALAREA_MODE                  48.27\n",
              "EMERGENCYSTATE_MODE             47.40\n",
              "OCCUPATION_TYPE                 31.35\n",
              "dtype: float64"
            ]
          },
          "metadata": {
            "tags": []
          },
          "execution_count": 6
        }
      ]
    },
    {
      "cell_type": "markdown",
      "metadata": {
        "id": "aG1r4tz9tZlb"
      },
      "source": [
        "* Calculation of null values if null values are more than 50% it is discarded\n",
        "* Below output gives null values in %\n",
        "\n"
      ]
    },
    {
      "cell_type": "markdown",
      "metadata": {
        "id": "5F8QiZBJuFAs"
      },
      "source": [
        "Below are the columns are dropped due to null values more than 50% or unwanted column"
      ]
    },
    {
      "cell_type": "code",
      "metadata": {
        "id": "CeKhclQIhF-L"
      },
      "source": [
        "# Dropping unWanted\n",
        "app_1 =app_d.drop(columns=['COMMONAREA_MEDI','COMMONAREA_AVG','COMMONAREA_MODE','NONLIVINGAPARTMENTS_MODE','NONLIVINGAPARTMENTS_MEDI',\n",
        "                   'NONLIVINGAPARTMENTS_AVG','FONDKAPREMONT_MODE','LIVINGAPARTMENTS_MEDI','LIVINGAPARTMENTS_MODE',\n",
        "                   'LIVINGAPARTMENTS_AVG','FLOORSMIN_MEDI','FLOORSMIN_MODE','FLOORSMIN_AVG','YEARS_BUILD_MEDI','YEARS_BUILD_AVG',\n",
        "                   'YEARS_BUILD_MODE','OWN_CAR_AGE','LANDAREA_MODE','LANDAREA_AVG','LANDAREA_MEDI','BASEMENTAREA_MEDI',     \n",
        "                   'BASEMENTAREA_AVG','BASEMENTAREA_MODE','EXT_SOURCE_1','EXT_SOURCE_2','EXT_SOURCE_3','NONLIVINGAREA_MEDI',\n",
        "                   'NONLIVINGAREA_AVG','NONLIVINGAREA_MODE','ELEVATORS_MODE','ELEVATORS_AVG', 'ELEVATORS_MEDI','WALLSMATERIAL_MODE',\n",
        "                   'APARTMENTS_MODE','APARTMENTS_AVG','APARTMENTS_MEDI','ENTRANCES_MEDI','ENTRANCES_MODE','ENTRANCES_AVG',         \n",
        "                   'LIVINGAREA_MEDI','LIVINGAREA_MODE','LIVINGAREA_AVG','HOUSETYPE_MODE'])"
      ],
      "execution_count": 7,
      "outputs": []
    },
    {
      "cell_type": "code",
      "metadata": {
        "colab": {
          "base_uri": "https://localhost:8080/"
        },
        "id": "ohJFIRVdt7DQ",
        "outputId": "8ed2d82c-d1be-46a1-f158-a8c5cb97cc9b"
      },
      "source": [
        "round(app_1.isna().sum()/app_1.shape[0]).sort_values (ascending = False)"
      ],
      "execution_count": 8,
      "outputs": [
        {
          "output_type": "execute_result",
          "data": {
            "text/plain": [
              "AMT_REQ_CREDIT_BUREAU_YEAR    0.0\n",
              "CNT_FAM_MEMBERS               0.0\n",
              "FLAG_MOBIL                    0.0\n",
              "FLAG_EMP_PHONE                0.0\n",
              "FLAG_WORK_PHONE               0.0\n",
              "                             ... \n",
              "FLAG_DOCUMENT_2               0.0\n",
              "FLAG_DOCUMENT_3               0.0\n",
              "FLAG_DOCUMENT_4               0.0\n",
              "FLAG_DOCUMENT_5               0.0\n",
              "SK_ID_CURR                    0.0\n",
              "Length: 79, dtype: float64"
            ]
          },
          "metadata": {
            "tags": []
          },
          "execution_count": 8
        }
      ]
    },
    {
      "cell_type": "code",
      "metadata": {
        "colab": {
          "base_uri": "https://localhost:8080/"
        },
        "id": "nCfsnMT2OSh1",
        "outputId": "3ed77590-4acb-44e3-faa8-d8e53a60fe2b"
      },
      "source": [
        "#application\n",
        "app_12=(app_1.isna().sum()/app_1.shape[0])*100\n",
        "round(app_12.sort_values (ascending =False)[0:50])"
      ],
      "execution_count": 9,
      "outputs": [
        {
          "output_type": "execute_result",
          "data": {
            "text/plain": [
              "FLOORSMAX_MODE                  50.0\n",
              "FLOORSMAX_AVG                   50.0\n",
              "FLOORSMAX_MEDI                  50.0\n",
              "YEARS_BEGINEXPLUATATION_MEDI    49.0\n",
              "YEARS_BEGINEXPLUATATION_MODE    49.0\n",
              "YEARS_BEGINEXPLUATATION_AVG     49.0\n",
              "TOTALAREA_MODE                  48.0\n",
              "EMERGENCYSTATE_MODE             47.0\n",
              "OCCUPATION_TYPE                 31.0\n",
              "AMT_REQ_CREDIT_BUREAU_YEAR      14.0\n",
              "AMT_REQ_CREDIT_BUREAU_QRT       14.0\n",
              "AMT_REQ_CREDIT_BUREAU_HOUR      14.0\n",
              "AMT_REQ_CREDIT_BUREAU_DAY       14.0\n",
              "AMT_REQ_CREDIT_BUREAU_WEEK      14.0\n",
              "AMT_REQ_CREDIT_BUREAU_MON       14.0\n",
              "NAME_TYPE_SUITE                  0.0\n",
              "DEF_60_CNT_SOCIAL_CIRCLE         0.0\n",
              "OBS_30_CNT_SOCIAL_CIRCLE         0.0\n",
              "DEF_30_CNT_SOCIAL_CIRCLE         0.0\n",
              "OBS_60_CNT_SOCIAL_CIRCLE         0.0\n",
              "AMT_GOODS_PRICE                  0.0\n",
              "AMT_ANNUITY                      0.0\n",
              "CNT_FAM_MEMBERS                  0.0\n",
              "DAYS_LAST_PHONE_CHANGE           0.0\n",
              "DAYS_EMPLOYED                    0.0\n",
              "FLAG_OWN_REALTY                  0.0\n",
              "TARGET                           0.0\n",
              "FLAG_EMAIL                       0.0\n",
              "FLAG_PHONE                       0.0\n",
              "FLAG_CONT_MOBILE                 0.0\n",
              "FLAG_WORK_PHONE                  0.0\n",
              "FLAG_EMP_PHONE                   0.0\n",
              "FLAG_MOBIL                       0.0\n",
              "NAME_CONTRACT_TYPE               0.0\n",
              "CODE_GENDER                      0.0\n",
              "FLAG_OWN_CAR                     0.0\n",
              "CNT_CHILDREN                     0.0\n",
              "REGION_RATING_CLIENT             0.0\n",
              "AMT_INCOME_TOTAL                 0.0\n",
              "AMT_CREDIT                       0.0\n",
              "NAME_INCOME_TYPE                 0.0\n",
              "NAME_EDUCATION_TYPE              0.0\n",
              "NAME_FAMILY_STATUS               0.0\n",
              "NAME_HOUSING_TYPE                0.0\n",
              "REGION_POPULATION_RELATIVE       0.0\n",
              "DAYS_BIRTH                       0.0\n",
              "DAYS_ID_PUBLISH                  0.0\n",
              "DAYS_REGISTRATION                0.0\n",
              "ORGANIZATION_TYPE                0.0\n",
              "REGION_RATING_CLIENT_W_CITY      0.0\n",
              "dtype: float64"
            ]
          },
          "metadata": {
            "tags": []
          },
          "execution_count": 9
        }
      ]
    },
    {
      "cell_type": "code",
      "metadata": {
        "colab": {
          "base_uri": "https://localhost:8080/"
        },
        "id": "XMLBPRrsA_tI",
        "outputId": "84a43688-7548-44a4-b6ae-f586433b3fe4"
      },
      "source": [
        "app_1.groupby('CODE_GENDER').CODE_GENDER.count()"
      ],
      "execution_count": 10,
      "outputs": [
        {
          "output_type": "execute_result",
          "data": {
            "text/plain": [
              "CODE_GENDER\n",
              "F      202448\n",
              "M      105059\n",
              "XNA         4\n",
              "Name: CODE_GENDER, dtype: int64"
            ]
          },
          "metadata": {
            "tags": []
          },
          "execution_count": 10
        }
      ]
    },
    {
      "cell_type": "markdown",
      "metadata": {
        "id": "mygR8zfmgLrk"
      },
      "source": [
        "#### Previous application data"
      ]
    },
    {
      "cell_type": "code",
      "metadata": {
        "colab": {
          "base_uri": "https://localhost:8080/"
        },
        "id": "0b0YXR3dIPrO",
        "outputId": "6091afb3-7cb6-4f78-a6f3-fd4954f7adcc"
      },
      "source": [
        "pre_d.info()"
      ],
      "execution_count": 11,
      "outputs": [
        {
          "output_type": "stream",
          "text": [
            "<class 'pandas.core.frame.DataFrame'>\n",
            "RangeIndex: 1670214 entries, 0 to 1670213\n",
            "Data columns (total 37 columns):\n",
            " #   Column                       Non-Null Count    Dtype  \n",
            "---  ------                       --------------    -----  \n",
            " 0   SK_ID_PREV                   1670214 non-null  int64  \n",
            " 1   SK_ID_CURR                   1670214 non-null  int64  \n",
            " 2   NAME_CONTRACT_TYPE           1670214 non-null  object \n",
            " 3   AMT_ANNUITY                  1297979 non-null  float64\n",
            " 4   AMT_APPLICATION              1670214 non-null  float64\n",
            " 5   AMT_CREDIT                   1670213 non-null  float64\n",
            " 6   AMT_DOWN_PAYMENT             774370 non-null   float64\n",
            " 7   AMT_GOODS_PRICE              1284699 non-null  float64\n",
            " 8   WEEKDAY_APPR_PROCESS_START   1670214 non-null  object \n",
            " 9   HOUR_APPR_PROCESS_START      1670214 non-null  int64  \n",
            " 10  FLAG_LAST_APPL_PER_CONTRACT  1670214 non-null  object \n",
            " 11  NFLAG_LAST_APPL_IN_DAY       1670214 non-null  int64  \n",
            " 12  RATE_DOWN_PAYMENT            774370 non-null   float64\n",
            " 13  RATE_INTEREST_PRIMARY        5951 non-null     float64\n",
            " 14  RATE_INTEREST_PRIVILEGED     5951 non-null     float64\n",
            " 15  NAME_CASH_LOAN_PURPOSE       1670214 non-null  object \n",
            " 16  NAME_CONTRACT_STATUS         1670214 non-null  object \n",
            " 17  DAYS_DECISION                1670214 non-null  int64  \n",
            " 18  NAME_PAYMENT_TYPE            1670214 non-null  object \n",
            " 19  CODE_REJECT_REASON           1670214 non-null  object \n",
            " 20  NAME_TYPE_SUITE              849809 non-null   object \n",
            " 21  NAME_CLIENT_TYPE             1670214 non-null  object \n",
            " 22  NAME_GOODS_CATEGORY          1670214 non-null  object \n",
            " 23  NAME_PORTFOLIO               1670214 non-null  object \n",
            " 24  NAME_PRODUCT_TYPE            1670214 non-null  object \n",
            " 25  CHANNEL_TYPE                 1670214 non-null  object \n",
            " 26  SELLERPLACE_AREA             1670214 non-null  int64  \n",
            " 27  NAME_SELLER_INDUSTRY         1670214 non-null  object \n",
            " 28  CNT_PAYMENT                  1297984 non-null  float64\n",
            " 29  NAME_YIELD_GROUP             1670214 non-null  object \n",
            " 30  PRODUCT_COMBINATION          1669868 non-null  object \n",
            " 31  DAYS_FIRST_DRAWING           997149 non-null   float64\n",
            " 32  DAYS_FIRST_DUE               997149 non-null   float64\n",
            " 33  DAYS_LAST_DUE_1ST_VERSION    997149 non-null   float64\n",
            " 34  DAYS_LAST_DUE                997149 non-null   float64\n",
            " 35  DAYS_TERMINATION             997149 non-null   float64\n",
            " 36  NFLAG_INSURED_ON_APPROVAL    997149 non-null   float64\n",
            "dtypes: float64(15), int64(6), object(16)\n",
            "memory usage: 471.5+ MB\n"
          ],
          "name": "stdout"
        }
      ]
    },
    {
      "cell_type": "code",
      "metadata": {
        "colab": {
          "base_uri": "https://localhost:8080/"
        },
        "id": "DX9SJdTqLn23",
        "outputId": "07890c56-8aa1-4287-9c58-8e7e935c1a6b"
      },
      "source": [
        "# Percentage of null values in data set\n",
        "pre1 = (pre_d.isna().sum()/pre_d.shape[0])*100\n",
        "pd.Series(round(pre1,2).sort_values(ascending =False))"
      ],
      "execution_count": 12,
      "outputs": [
        {
          "output_type": "execute_result",
          "data": {
            "text/plain": [
              "RATE_INTEREST_PRIVILEGED       99.64\n",
              "RATE_INTEREST_PRIMARY          99.64\n",
              "RATE_DOWN_PAYMENT              53.64\n",
              "AMT_DOWN_PAYMENT               53.64\n",
              "NAME_TYPE_SUITE                49.12\n",
              "DAYS_TERMINATION               40.30\n",
              "NFLAG_INSURED_ON_APPROVAL      40.30\n",
              "DAYS_FIRST_DRAWING             40.30\n",
              "DAYS_FIRST_DUE                 40.30\n",
              "DAYS_LAST_DUE_1ST_VERSION      40.30\n",
              "DAYS_LAST_DUE                  40.30\n",
              "AMT_GOODS_PRICE                23.08\n",
              "CNT_PAYMENT                    22.29\n",
              "AMT_ANNUITY                    22.29\n",
              "PRODUCT_COMBINATION             0.02\n",
              "SK_ID_CURR                      0.00\n",
              "NAME_CONTRACT_TYPE              0.00\n",
              "AMT_CREDIT                      0.00\n",
              "WEEKDAY_APPR_PROCESS_START      0.00\n",
              "HOUR_APPR_PROCESS_START         0.00\n",
              "FLAG_LAST_APPL_PER_CONTRACT     0.00\n",
              "NFLAG_LAST_APPL_IN_DAY          0.00\n",
              "AMT_APPLICATION                 0.00\n",
              "NAME_PAYMENT_TYPE               0.00\n",
              "NAME_CASH_LOAN_PURPOSE          0.00\n",
              "NAME_CONTRACT_STATUS            0.00\n",
              "DAYS_DECISION                   0.00\n",
              "CODE_REJECT_REASON              0.00\n",
              "NAME_CLIENT_TYPE                0.00\n",
              "NAME_GOODS_CATEGORY             0.00\n",
              "NAME_PORTFOLIO                  0.00\n",
              "NAME_PRODUCT_TYPE               0.00\n",
              "CHANNEL_TYPE                    0.00\n",
              "SELLERPLACE_AREA                0.00\n",
              "NAME_SELLER_INDUSTRY            0.00\n",
              "NAME_YIELD_GROUP                0.00\n",
              "SK_ID_PREV                      0.00\n",
              "dtype: float64"
            ]
          },
          "metadata": {
            "tags": []
          },
          "execution_count": 12
        }
      ]
    },
    {
      "cell_type": "code",
      "metadata": {
        "colab": {
          "base_uri": "https://localhost:8080/"
        },
        "id": "Vu-7dz3TP65H",
        "outputId": "17fe20d1-dd63-4efa-8fa2-47f4e728ed1d"
      },
      "source": [
        "round(pre_d.isnull().mean(axis=0).sort_values(ascending=False)*100,2)"
      ],
      "execution_count": 13,
      "outputs": [
        {
          "output_type": "execute_result",
          "data": {
            "text/plain": [
              "RATE_INTEREST_PRIVILEGED       99.64\n",
              "RATE_INTEREST_PRIMARY          99.64\n",
              "RATE_DOWN_PAYMENT              53.64\n",
              "AMT_DOWN_PAYMENT               53.64\n",
              "NAME_TYPE_SUITE                49.12\n",
              "DAYS_TERMINATION               40.30\n",
              "NFLAG_INSURED_ON_APPROVAL      40.30\n",
              "DAYS_FIRST_DRAWING             40.30\n",
              "DAYS_FIRST_DUE                 40.30\n",
              "DAYS_LAST_DUE_1ST_VERSION      40.30\n",
              "DAYS_LAST_DUE                  40.30\n",
              "AMT_GOODS_PRICE                23.08\n",
              "AMT_ANNUITY                    22.29\n",
              "CNT_PAYMENT                    22.29\n",
              "PRODUCT_COMBINATION             0.02\n",
              "AMT_CREDIT                      0.00\n",
              "SK_ID_CURR                      0.00\n",
              "NAME_CONTRACT_TYPE              0.00\n",
              "WEEKDAY_APPR_PROCESS_START      0.00\n",
              "HOUR_APPR_PROCESS_START         0.00\n",
              "FLAG_LAST_APPL_PER_CONTRACT     0.00\n",
              "NFLAG_LAST_APPL_IN_DAY          0.00\n",
              "AMT_APPLICATION                 0.00\n",
              "NAME_PAYMENT_TYPE               0.00\n",
              "NAME_CASH_LOAN_PURPOSE          0.00\n",
              "NAME_CONTRACT_STATUS            0.00\n",
              "DAYS_DECISION                   0.00\n",
              "CODE_REJECT_REASON              0.00\n",
              "NAME_CLIENT_TYPE                0.00\n",
              "NAME_GOODS_CATEGORY             0.00\n",
              "NAME_PORTFOLIO                  0.00\n",
              "NAME_PRODUCT_TYPE               0.00\n",
              "CHANNEL_TYPE                    0.00\n",
              "SELLERPLACE_AREA                0.00\n",
              "NAME_SELLER_INDUSTRY            0.00\n",
              "NAME_YIELD_GROUP                0.00\n",
              "SK_ID_PREV                      0.00\n",
              "dtype: float64"
            ]
          },
          "metadata": {
            "tags": []
          },
          "execution_count": 13
        }
      ]
    },
    {
      "cell_type": "markdown",
      "metadata": {
        "id": "qYCeK0DquMrL"
      },
      "source": [
        "Below are the columns are dropped due to null values more than 50% or unwanted column"
      ]
    },
    {
      "cell_type": "code",
      "metadata": {
        "colab": {
          "base_uri": "https://localhost:8080/"
        },
        "id": "5Y1F250BOScR",
        "outputId": "0bfbad4e-dded-48ed-fe05-222ba1edfde8"
      },
      "source": [
        "# Dropping unWanted\n",
        "pre_1 =pre_d.drop(['WEEKDAY_APPR_PROCESS_START', 'HOUR_APPR_PROCESS_START','FLAG_LAST_APPL_PER_CONTRACT', 'NFLAG_LAST_APPL_IN_DAY',\n",
        "                   'CHANNEL_TYPE', 'SELLERPLACE_AREA', 'NAME_SELLER_INDUSTRY','NAME_YIELD_GROUP','PRODUCT_COMBINATION'],axis = 1)\n",
        "pre_1.columns"
      ],
      "execution_count": 14,
      "outputs": [
        {
          "output_type": "execute_result",
          "data": {
            "text/plain": [
              "Index(['SK_ID_PREV', 'SK_ID_CURR', 'NAME_CONTRACT_TYPE', 'AMT_ANNUITY',\n",
              "       'AMT_APPLICATION', 'AMT_CREDIT', 'AMT_DOWN_PAYMENT', 'AMT_GOODS_PRICE',\n",
              "       'RATE_DOWN_PAYMENT', 'RATE_INTEREST_PRIMARY',\n",
              "       'RATE_INTEREST_PRIVILEGED', 'NAME_CASH_LOAN_PURPOSE',\n",
              "       'NAME_CONTRACT_STATUS', 'DAYS_DECISION', 'NAME_PAYMENT_TYPE',\n",
              "       'CODE_REJECT_REASON', 'NAME_TYPE_SUITE', 'NAME_CLIENT_TYPE',\n",
              "       'NAME_GOODS_CATEGORY', 'NAME_PORTFOLIO', 'NAME_PRODUCT_TYPE',\n",
              "       'CNT_PAYMENT', 'DAYS_FIRST_DRAWING', 'DAYS_FIRST_DUE',\n",
              "       'DAYS_LAST_DUE_1ST_VERSION', 'DAYS_LAST_DUE', 'DAYS_TERMINATION',\n",
              "       'NFLAG_INSURED_ON_APPROVAL'],\n",
              "      dtype='object')"
            ]
          },
          "metadata": {
            "tags": []
          },
          "execution_count": 14
        }
      ]
    },
    {
      "cell_type": "code",
      "metadata": {
        "colab": {
          "base_uri": "https://localhost:8080/"
        },
        "id": "Uu6jxkI9-8-_",
        "outputId": "c7f43bc6-4a0a-4cac-de1a-b1f52fb42134"
      },
      "source": [
        "pre_1.CODE_REJECT_REASON  "
      ],
      "execution_count": 15,
      "outputs": [
        {
          "output_type": "execute_result",
          "data": {
            "text/plain": [
              "0          XAP\n",
              "1          XAP\n",
              "2          XAP\n",
              "3          XAP\n",
              "4           HC\n",
              "          ... \n",
              "1670209    XAP\n",
              "1670210    XAP\n",
              "1670211    XAP\n",
              "1670212    XAP\n",
              "1670213    XAP\n",
              "Name: CODE_REJECT_REASON, Length: 1670214, dtype: object"
            ]
          },
          "metadata": {
            "tags": []
          },
          "execution_count": 15
        }
      ]
    },
    {
      "cell_type": "code",
      "metadata": {
        "id": "GFhwxNrFh8Nk"
      },
      "source": [
        "\n"
      ],
      "execution_count": 15,
      "outputs": []
    },
    {
      "cell_type": "markdown",
      "metadata": {
        "id": "igTKV7K_uA5o"
      },
      "source": [
        "# Exploratory data analysis\n"
      ]
    },
    {
      "cell_type": "markdown",
      "metadata": {
        "id": "g2zudRAiKKe5"
      },
      "source": [
        "### Univariate\n",
        "\n",
        "*   Explanation in Text box\n",
        "*   10 lines of Data visualization(Univariate)\n",
        "*   15+ visualization (Univariate)\n",
        "\n"
      ]
    },
    {
      "cell_type": "markdown",
      "metadata": {
        "id": "FYIFZphQuWyb"
      },
      "source": [
        "Box plot to determine outliers in annuity amounts.\n",
        "\n",
        "---\n",
        "\n",
        "+ Annuity anount lies Between 0-5k below and outside the box are ouliers and they do not fit in pattern."
      ]
    },
    {
      "cell_type": "code",
      "metadata": {
        "colab": {
          "base_uri": "https://localhost:8080/",
          "height": 283
        },
        "id": "w7KO-mjtXvYM",
        "outputId": "cdf219ea-bfdb-47ed-c058-b52fdda9eaf5"
      },
      "source": [
        "app_1.AMT_ANNUITY.fillna(0).plot(kind = 'box')"
      ],
      "execution_count": 16,
      "outputs": [
        {
          "output_type": "execute_result",
          "data": {
            "text/plain": [
              "<matplotlib.axes._subplots.AxesSubplot at 0x7fd1342496d0>"
            ]
          },
          "metadata": {
            "tags": []
          },
          "execution_count": 16
        },
        {
          "output_type": "display_data",
          "data": {
            "image/png": "[encoded data removed]",
            "text/plain": [
              "<Figure size 432x288 with 1 Axes>"
            ]
          },
          "metadata": {
            "tags": [],
            "needs_background": "light"
          }
        }
      ]
    },
    {
      "cell_type": "markdown",
      "metadata": {
        "id": "x0Mx0__Yi30b"
      },
      "source": [
        "#### Application data"
      ]
    },
    {
      "cell_type": "markdown",
      "metadata": {
        "id": "8B3F0M78vHgW"
      },
      "source": [
        "* Distribution plot for goods price and annuity (Both repayers and defaulters)\n",
        "* We can see that annuity and goods price is more area wise compared to defaulters\n",
        "* Fill na makes graph more accurate we assume null values as 0"
      ]
    },
    {
      "cell_type": "code",
      "metadata": {
        "colab": {
          "base_uri": "https://localhost:8080/",
          "height": 386
        },
        "id": "orhYv7JbXvoH",
        "outputId": "c693cd00-0471-41d2-9765-f0809c201f09"
      },
      "source": [
        "# Major customer pay around <=50000 as contract amount.\n",
        "# Fill na makes graph more accurate we assume null values as 0\n",
        "sns.displot(data = app_d.fillna(0),x='AMT_ANNUITY',hue= \"TARGET\",kde = True)\n",
        "\n"
      ],
      "execution_count": 17,
      "outputs": [
        {
          "output_type": "execute_result",
          "data": {
            "text/plain": [
              "<seaborn.axisgrid.FacetGrid at 0x7fd13426a890>"
            ]
          },
          "metadata": {
            "tags": []
          },
          "execution_count": 17
        },
        {
          "output_type": "display_data",
          "data": {
            "image/png": "[encoded data removed]",
            "text/plain": [
              "<Figure size 407x360 with 1 Axes>"
            ]
          },
          "metadata": {
            "tags": [],
            "needs_background": "light"
          }
        }
      ]
    },
    {
      "cell_type": "code",
      "metadata": {
        "colab": {
          "base_uri": "https://localhost:8080/",
          "height": 386
        },
        "id": "X-iA-yvAfTf-",
        "outputId": "4840d537-9e46-4a68-c2e8-c17254b1c79a"
      },
      "source": [
        "sns.displot(data = app_d.fillna(0),x='AMT_GOODS_PRICE',hue= \"TARGET\",kde = True)"
      ],
      "execution_count": 18,
      "outputs": [
        {
          "output_type": "execute_result",
          "data": {
            "text/plain": [
              "<seaborn.axisgrid.FacetGrid at 0x7fd1289f1810>"
            ]
          },
          "metadata": {
            "tags": []
          },
          "execution_count": 18
        },
        {
          "output_type": "display_data",
          "data": {
            "image/png": "[encoded data removed]",
            "text/plain": [
              "<Figure size 407x360 with 1 Axes>"
            ]
          },
          "metadata": {
            "tags": [],
            "needs_background": "light"
          }
        }
      ]
    },
    {
      "cell_type": "markdown",
      "metadata": {
        "id": "PX2MQqgZvbB2"
      },
      "source": [
        "\n",
        "\n",
        "---\n",
        "\n",
        "\n",
        "Bar plot determining occupation distribution in dataset\n",
        "\n",
        "\n",
        "---\n",
        "\n",
        "\n",
        "  * Laborers,Sales staff,Core staff are dominant in occupation type.\n",
        "  * IT,HR and reality is least dominant in occupation type."
      ]
    },
    {
      "cell_type": "code",
      "metadata": {
        "colab": {
          "base_uri": "https://localhost:8080/",
          "height": 392
        },
        "id": "U0Q7kz4JXvzl",
        "outputId": "179878ff-308b-4179-ff94-21277381162c"
      },
      "source": [
        "app_1.groupby('OCCUPATION_TYPE').OCCUPATION_TYPE.count().sort_values(ascending =False).plot(kind ='bar',colormap =\"cubehelix\",ylabel = \"Customers\")"
      ],
      "execution_count": 19,
      "outputs": [
        {
          "output_type": "execute_result",
          "data": {
            "text/plain": [
              "<matplotlib.axes._subplots.AxesSubplot at 0x7fd1282040d0>"
            ]
          },
          "metadata": {
            "tags": []
          },
          "execution_count": 19
        },
        {
          "output_type": "display_data",
          "data": {
            "image/png": "[encoded data removed]",
            "text/plain": [
              "<Figure size 432x288 with 1 Axes>"
            ]
          },
          "metadata": {
            "tags": [],
            "needs_background": "light"
          }
        }
      ]
    },
    {
      "cell_type": "markdown",
      "metadata": {
        "id": "hRxy4NxlwuXb"
      },
      "source": [
        "Bar plot\n",
        "+ To determine data distribution \n",
        "---\n",
        "+ Female invest/own properties more compared to cars compared to their counterparts \n",
        "+ Males tend to own cars more compared to women rather there is a large contrast in owning car\n"
      ]
    },
    {
      "cell_type": "code",
      "metadata": {
        "colab": {
          "base_uri": "https://localhost:8080/",
          "height": 422
        },
        "id": "ink1-Zgy3d0v",
        "outputId": "0a166929-7e62-47f9-ceb8-4213dd6b697a"
      },
      "source": [
        "\n",
        "# Female invest/own properties more compared to cars compared to their counterparts \n",
        "# Males tend to own cars more compared to women rather there is a large contrast in owning car\n",
        "plt.figure(figsize=(10,6))\n",
        "plt.subplot(121)\n",
        "sns.countplot(data=app_1,x= \"FLAG_OWN_REALTY\",hue=\"CODE_GENDER\")\n",
        "plt.title(\"Distribution of retail ownership over gender\")\n",
        "plt.subplot(122)\n",
        "sns.countplot(data=app_1,x=\"FLAG_OWN_CAR\",hue=\"CODE_GENDER\")\n",
        "plt.title(\"Distribution of car ownership over gender\")\n"
      ],
      "execution_count": 20,
      "outputs": [
        {
          "output_type": "execute_result",
          "data": {
            "text/plain": [
              "Text(0.5, 1.0, 'Distribution of car ownership over gender')"
            ]
          },
          "metadata": {
            "tags": []
          },
          "execution_count": 20
        },
        {
          "output_type": "display_data",
          "data": {
            "image/png": "[encoded data removed]",
            "text/plain": [
              "<Figure size 720x432 with 2 Axes>"
            ]
          },
          "metadata": {
            "tags": [],
            "needs_background": "light"
          }
        }
      ]
    },
    {
      "cell_type": "code",
      "metadata": {
        "colab": {
          "base_uri": "https://localhost:8080/"
        },
        "id": "RpL-uh26xjts",
        "outputId": "b274890d-ab63-4959-d36f-9c0dcf551968"
      },
      "source": [
        "app_d.OCCUPATION_TYPE.unique()"
      ],
      "execution_count": 21,
      "outputs": [
        {
          "output_type": "execute_result",
          "data": {
            "text/plain": [
              "array(['Laborers', 'Core staff', 'Accountants', 'Managers', nan,\n",
              "       'Drivers', 'Sales staff', 'Cleaning staff', 'Cooking staff',\n",
              "       'Private service staff', 'Medicine staff', 'Security staff',\n",
              "       'High skill tech staff', 'Waiters/barmen staff',\n",
              "       'Low-skill Laborers', 'Realty agents', 'Secretaries', 'IT staff',\n",
              "       'HR staff'], dtype=object)"
            ]
          },
          "metadata": {
            "tags": []
          },
          "execution_count": 21
        }
      ]
    },
    {
      "cell_type": "markdown",
      "metadata": {
        "id": "5Xs_wX4VxCRU"
      },
      "source": [
        "Box plot based on occupation and gender\n",
        "\n",
        "---\n",
        "\n",
        "\n",
        "* Better paid jobs tend to return loan more frequently compared to low paying jobs\n",
        "* Bar plot determining occupation distribution in dataset based on Gender\n",
        "* Male staff (dominant): Laborers,Security staff,Drivers,Low-skill Laborers\n",
        "* Female staff (dominant):Sales staff,Secretaries,High skill tech staff,Managers\n"
      ]
    },
    {
      "cell_type": "code",
      "metadata": {
        "colab": {
          "base_uri": "https://localhost:8080/",
          "height": 234
        },
        "id": "sgXGCSw44CAf",
        "outputId": "8f9b4e6e-c568-49dc-db9e-7a2bf093149e"
      },
      "source": [
        "plt.figure(figsize=(10,6))\n",
        "sns.catplot(data =app_1,y=\"OCCUPATION_TYPE\",hue = \"TARGET\",kind='count',height=5, aspect=6)\n"
      ],
      "execution_count": 22,
      "outputs": [
        {
          "output_type": "execute_result",
          "data": {
            "text/plain": [
              "<seaborn.axisgrid.FacetGrid at 0x7fd128111990>"
            ]
          },
          "metadata": {
            "tags": []
          },
          "execution_count": 22
        },
        {
          "output_type": "display_data",
          "data": {
            "text/plain": [
              "<Figure size 720x432 with 0 Axes>"
            ]
          },
          "metadata": {
            "tags": []
          }
        },
        {
          "output_type": "display_data",
          "data": {
            "image/png": "[encoded data removed]",
            "text/plain": [
              "<Figure size 2207x360 with 1 Axes>"
            ]
          },
          "metadata": {
            "tags": [],
            "needs_background": "light"
          }
        }
      ]
    },
    {
      "cell_type": "markdown",
      "metadata": {
        "id": "IPF6UOBP2XVs"
      },
      "source": [
        "\n",
        "\n",
        "---\n",
        "\n",
        "\n",
        "Bar plot: Determining Education distribution among customer.\n",
        "\n",
        "\n",
        "\n",
        "---\n",
        "\n",
        "+ Majority no of defaulters are from secondary group of education\n",
        "+ Diffrence in loan repayment is in **Higher education** suggesting a trend where Educated folks tend to repay loan compared to their counter parts.\n",
        "+ Secondary Group majorly consists of Defaulters (huge diff between repayers and defaulters showing a trend)\n"
      ]
    },
    {
      "cell_type": "code",
      "metadata": {
        "colab": {
          "base_uri": "https://localhost:8080/",
          "height": 234
        },
        "id": "_Kwgd1eyzgA9",
        "outputId": "6cc59994-e82e-4f3c-9831-6eba36956f33"
      },
      "source": [
        "plt.figure(figsize=(10,6))\n",
        "sns.catplot(data =app_1,y=\"NAME_EDUCATION_TYPE\",hue = \"TARGET\",kind= 'count',height=5, aspect=6)"
      ],
      "execution_count": 23,
      "outputs": [
        {
          "output_type": "execute_result",
          "data": {
            "text/plain": [
              "<seaborn.axisgrid.FacetGrid at 0x7fd127fc0750>"
            ]
          },
          "metadata": {
            "tags": []
          },
          "execution_count": 23
        },
        {
          "output_type": "display_data",
          "data": {
            "text/plain": [
              "<Figure size 720x432 with 0 Axes>"
            ]
          },
          "metadata": {
            "tags": []
          }
        },
        {
          "output_type": "display_data",
          "data": {
            "image/png": "[encoded data removed]",
            "text/plain": [
              "<Figure size 2207x360 with 1 Axes>"
            ]
          },
          "metadata": {
            "tags": [],
            "needs_background": "light"
          }
        }
      ]
    },
    {
      "cell_type": "markdown",
      "metadata": {
        "id": "hkn3D-0Z3P4-"
      },
      "source": [
        "\n",
        "\n",
        "---\n",
        "\n",
        "\n",
        "Bar plot : Distribution of contract and suit type\n",
        "\n",
        "---\n",
        "\n",
        "\n",
        "+ Comparison of Contract type between Clients who pay on time Repayers & Clients with loan payment Difficulty defaulters (FIG 1)\n",
        "+ Customer base accoring to suite.(FIG 2)\n",
        "+ Repayers & Defaulters vs Gender Base.(FIG 3)\n"
      ]
    },
    {
      "cell_type": "code",
      "metadata": {
        "colab": {
          "base_uri": "https://localhost:8080/",
          "height": 802
        },
        "id": "Dxf8t8YuhsNL",
        "outputId": "a379637b-db23-487e-d69b-917d103f9d50"
      },
      "source": [
        "\n",
        "# Gender distribution over contarct type\n",
        "plt.figure(figsize=(13,13))\n",
        "plt.subplot(221)\n",
        "sns.countplot(data =app_1,x=\"NAME_CONTRACT_TYPE\",hue = \"TARGET\")\n",
        "plt.subplot(222)\n",
        "app_1.groupby('NAME_TYPE_SUITE').NAME_TYPE_SUITE.count().sort_values(ascending =False).plot(kind= 'bar',xlabel='Group',ylabel='customer count',title =\"Customer Group\")\n",
        "plt.subplot(223)\n",
        "sns.countplot(data = app_1,x= 'TARGET',hue=\"CODE_GENDER\")\n"
      ],
      "execution_count": 24,
      "outputs": [
        {
          "output_type": "execute_result",
          "data": {
            "text/plain": [
              "<matplotlib.axes._subplots.AxesSubplot at 0x7fd116a3fcd0>"
            ]
          },
          "metadata": {
            "tags": []
          },
          "execution_count": 24
        },
        {
          "output_type": "display_data",
          "data": {
            "image/png": "[encoded data removed]",
            "text/plain": [
              "<Figure size 936x936 with 3 Axes>"
            ]
          },
          "metadata": {
            "tags": [],
            "needs_background": "light"
          }
        }
      ]
    },
    {
      "cell_type": "markdown",
      "metadata": {
        "id": "wn2vvaBF7V9C"
      },
      "source": [
        "Density plot & Distrobution of Income type\n",
        "\n",
        "---\n",
        "+ Determining relation-ship between type of income and target\n",
        "+ Density of registration days \n",
        "\n"
      ]
    },
    {
      "cell_type": "code",
      "metadata": {
        "colab": {
          "base_uri": "https://localhost:8080/",
          "height": 400
        },
        "id": "AcWjQgwODPyS",
        "outputId": "04f7f432-1337-4ae1-8aec-f8d66d7ec99f"
      },
      "source": [
        "# Univariate\n",
        "app3 =app_d.DAYS_REGISTRATION.abs()\n",
        "plt.figure(figsize=(13,13))\n",
        "plt.subplot(221)\n",
        "sns.countplot(data =app_1,y=\"NAME_INCOME_TYPE\",hue = \"TARGET\")\n",
        "plt.subplot(222)\n",
        "app3.hist(color = \"black\")"
      ],
      "execution_count": 25,
      "outputs": [
        {
          "output_type": "execute_result",
          "data": {
            "text/plain": [
              "<matplotlib.axes._subplots.AxesSubplot at 0x7fd12908a690>"
            ]
          },
          "metadata": {
            "tags": []
          },
          "execution_count": 25
        },
        {
          "output_type": "display_data",
          "data": {
            "image/png": "[encoded data removed]",
            "text/plain": [
              "<Figure size 936x936 with 2 Axes>"
            ]
          },
          "metadata": {
            "tags": [],
            "needs_background": "light"
          }
        }
      ]
    },
    {
      "cell_type": "markdown",
      "metadata": {
        "id": "N4znYOVg7L8j"
      },
      "source": [
        "DISTRIBUTION OF BASED ON ORGANIZATION_TYPE\n",
        "\n",
        "---\n",
        "\n"
      ]
    },
    {
      "cell_type": "code",
      "metadata": {
        "colab": {
          "base_uri": "https://localhost:8080/",
          "height": 802
        },
        "id": "Bg9MkgZL3KX0",
        "outputId": "589386f3-9d00-4dbc-d09e-ecaf94bd7c1f"
      },
      "source": [
        "# Females tend to pay there loan back compared to men \n",
        "plt.figure(figsize=(10,13))\n",
        "plt.subplot(121)\n",
        "plt.title(\"DISTRIBUTION OF BASED ON ORGANIZATION_TYPE\")\n",
        "sns.countplot(data = app_d,y= 'ORGANIZATION_TYPE',hue=\"TARGET\")\n",
        "\n"
      ],
      "execution_count": 26,
      "outputs": [
        {
          "output_type": "execute_result",
          "data": {
            "text/plain": [
              "<matplotlib.axes._subplots.AxesSubplot at 0x7fd127f34a10>"
            ]
          },
          "metadata": {
            "tags": []
          },
          "execution_count": 26
        },
        {
          "output_type": "display_data",
          "data": {
            "image/png": "[encoded data removed]",
            "text/plain": [
              "<Figure size 720x936 with 1 Axes>"
            ]
          },
          "metadata": {
            "tags": [],
            "needs_background": "light"
          }
        }
      ]
    },
    {
      "cell_type": "markdown",
      "metadata": {
        "id": "T85WmDUE6-sH"
      },
      "source": [
        "Multiple box plots \n",
        "\n",
        "---\n",
        "\n"
      ]
    },
    {
      "cell_type": "code",
      "metadata": {
        "colab": {
          "base_uri": "https://localhost:8080/",
          "height": 731
        },
        "id": "9xR8EZpRTNGz",
        "outputId": "cccd689b-b3af-4ecc-d909-aa11dab8214c"
      },
      "source": [
        "\n",
        "x   = app_1[['FLAG_MOBIL', 'FLAG_EMP_PHONE', 'FLAG_WORK_PHONE', 'FLAG_CONT_MOBILE',\n",
        "             'FLAG_PHONE', 'FLAG_EMAIL',\"TARGET\"]]\n",
        "x[\"TARGET\"] = x[\"TARGET\"].replace({0:\"repayers\",1:\"defaulters\"})\n",
        "x  = x.replace({1:\"YES\",0:\"NO\"})\n",
        "\n",
        "cols = ['FLAG_MOBIL', 'FLAG_EMP_PHONE', 'FLAG_WORK_PHONE', 'FLAG_CONT_MOBILE',\n",
        "       'FLAG_PHONE', 'FLAG_EMAIL']\n",
        "length = len(cols)\n",
        "\n",
        "fig = plt.figure(figsize=(15,12))\n",
        "fig.set_facecolor(\"white\")\n",
        "\n",
        "for i,j in itertools.zip_longest(cols,range(length)):\n",
        "    plt.subplot(2,3,j+1)\n",
        "    sns.countplot(x[i],hue=x[\"TARGET\"],palette=[\"black\",\"y\"])\n",
        "    plt.title(i,color=\"b\")"
      ],
      "execution_count": 27,
      "outputs": [
        {
          "output_type": "display_data",
          "data": {
            "image/png": "[encoded data removed]",
            "text/plain": [
              "<Figure size 1080x864 with 6 Axes>"
            ]
          },
          "metadata": {
            "tags": []
          }
        }
      ]
    },
    {
      "cell_type": "markdown",
      "metadata": {
        "id": "0lCGr94tFWZm"
      },
      "source": [
        "\n",
        "\n",
        "---\n",
        "\n",
        "\n",
        "Imbalance \n",
        "\n",
        "---\n",
        "+ Bar plot of count and percentage of Target.\n"
      ]
    },
    {
      "cell_type": "code",
      "metadata": {
        "colab": {
          "base_uri": "https://localhost:8080/",
          "height": 295
        },
        "id": "cOfCKnI66JhS",
        "outputId": "05bcd1d9-9fde-4366-f8fa-ff6c1338038d"
      },
      "source": [
        "# Imbalance \n",
        "g = app_d['TARGET']\n",
        "d20 = round(pd.concat([g.value_counts(),g.value_counts(normalize=True).mul(100)],axis=1,keys=('counts','percentage')),2)\n",
        "plt.subplot(121)\n",
        "d20.counts.plot(kind =\"bar\")\n",
        "plt.title(\"Count of Category 0 and 1\")\n",
        "plt.subplot(122)\n",
        "d20.percentage.plot(kind = 'bar')\n",
        "plt.title(\"Percentage of Target Distribution\")\n",
        "\n"
      ],
      "execution_count": 28,
      "outputs": [
        {
          "output_type": "execute_result",
          "data": {
            "text/plain": [
              "Text(0.5, 1.0, 'Percentage of Target Distribution')"
            ]
          },
          "metadata": {
            "tags": []
          },
          "execution_count": 28
        },
        {
          "output_type": "display_data",
          "data": {
            "image/png": "[encoded data removed]",
            "text/plain": [
              "<Figure size 432x288 with 2 Axes>"
            ]
          },
          "metadata": {
            "tags": [],
            "needs_background": "light"
          }
        }
      ]
    },
    {
      "cell_type": "markdown",
      "metadata": {
        "id": "icMwYv_uFwgX"
      },
      "source": [
        "Relationship status of defaulters and repayers"
      ]
    },
    {
      "cell_type": "code",
      "metadata": {
        "colab": {
          "base_uri": "https://localhost:8080/",
          "height": 786
        },
        "id": "BAL2UpKC-olj",
        "outputId": "93cfccbe-e33b-4d63-b19a-fe74679cd299"
      },
      "source": [
        "plt.figure(figsize=(10,13))\n",
        "sns.countplot(data = app_d,x= 'NAME_FAMILY_STATUS',hue = \"TARGET\")\n"
      ],
      "execution_count": 29,
      "outputs": [
        {
          "output_type": "execute_result",
          "data": {
            "text/plain": [
              "<matplotlib.axes._subplots.AxesSubplot at 0x7fd12784bb50>"
            ]
          },
          "metadata": {
            "tags": []
          },
          "execution_count": 29
        },
        {
          "output_type": "display_data",
          "data": {
            "image/png": "[encoded data removed]",
            "text/plain": [
              "<Figure size 720x936 with 1 Axes>"
            ]
          },
          "metadata": {
            "tags": [],
            "needs_background": "light"
          }
        }
      ]
    },
    {
      "cell_type": "markdown",
      "metadata": {
        "id": "KNo9JVuP9Nrr"
      },
      "source": [
        "Distribution of registration days for target variable.\n",
        "* DAYS_REGISTRATION How many days before the application did client change his registration\n",
        "\n"
      ]
    },
    {
      "cell_type": "code",
      "metadata": {
        "colab": {
          "base_uri": "https://localhost:8080/",
          "height": 402
        },
        "id": "q6ApJ-by9Twa",
        "outputId": "08160089-5ac4-41e6-8cbe-7d0169934d52"
      },
      "source": [
        "sns.displot(data = app_d.fillna(0),x='DAYS_REGISTRATION',hue= \"TARGET\",kde = True)\n",
        "plt.title(\"registration days distribution of repayers & Defaluters\")"
      ],
      "execution_count": 30,
      "outputs": [
        {
          "output_type": "execute_result",
          "data": {
            "text/plain": [
              "Text(0.5, 1.0, 'registration days distribution of repayers & Defaluters')"
            ]
          },
          "metadata": {
            "tags": []
          },
          "execution_count": 30
        },
        {
          "output_type": "display_data",
          "data": {
            "image/png": "[encoded data removed]",
            "text/plain": [
              "<Figure size 407x360 with 1 Axes>"
            ]
          },
          "metadata": {
            "tags": [],
            "needs_background": "light"
          }
        }
      ]
    },
    {
      "cell_type": "markdown",
      "metadata": {
        "id": "c-iBKtFTjB8N"
      },
      "source": [
        "#### Previous application data"
      ]
    },
    {
      "cell_type": "code",
      "metadata": {
        "colab": {
          "base_uri": "https://localhost:8080/"
        },
        "id": "xQRmqTC8jKy7",
        "outputId": "7b191b8f-20b2-408a-9b04-3913400e7f62"
      },
      "source": [
        "pre_1.columns"
      ],
      "execution_count": 31,
      "outputs": [
        {
          "output_type": "execute_result",
          "data": {
            "text/plain": [
              "Index(['SK_ID_PREV', 'SK_ID_CURR', 'NAME_CONTRACT_TYPE', 'AMT_ANNUITY',\n",
              "       'AMT_APPLICATION', 'AMT_CREDIT', 'AMT_DOWN_PAYMENT', 'AMT_GOODS_PRICE',\n",
              "       'RATE_DOWN_PAYMENT', 'RATE_INTEREST_PRIMARY',\n",
              "       'RATE_INTEREST_PRIVILEGED', 'NAME_CASH_LOAN_PURPOSE',\n",
              "       'NAME_CONTRACT_STATUS', 'DAYS_DECISION', 'NAME_PAYMENT_TYPE',\n",
              "       'CODE_REJECT_REASON', 'NAME_TYPE_SUITE', 'NAME_CLIENT_TYPE',\n",
              "       'NAME_GOODS_CATEGORY', 'NAME_PORTFOLIO', 'NAME_PRODUCT_TYPE',\n",
              "       'CNT_PAYMENT', 'DAYS_FIRST_DRAWING', 'DAYS_FIRST_DUE',\n",
              "       'DAYS_LAST_DUE_1ST_VERSION', 'DAYS_LAST_DUE', 'DAYS_TERMINATION',\n",
              "       'NFLAG_INSURED_ON_APPROVAL'],\n",
              "      dtype='object')"
            ]
          },
          "metadata": {
            "tags": []
          },
          "execution_count": 31
        }
      ]
    },
    {
      "cell_type": "markdown",
      "metadata": {
        "id": "1VPSUUO-8YiV"
      },
      "source": [
        "BOX plot :APPLICATION,CREDIT,ANNUITY,GOODS PRICE,DAYS DECISION\n",
        "\n",
        "---\n",
        "*\n"
      ]
    },
    {
      "cell_type": "code",
      "metadata": {
        "colab": {
          "base_uri": "https://localhost:8080/",
          "height": 1000
        },
        "id": "8wA8FaycjKw8",
        "outputId": "0cad6765-8bd1-41cb-dd68-6da9c3f8283e"
      },
      "source": [
        "pre_plot = ['AMT_APPLICATION','AMT_CREDIT', 'AMT_ANNUITY', 'AMT_GOODS_PRICE','DAYS_DECISION']\n",
        "for i in pre_1[pre_plot]:\n",
        "    plt.figure(1,figsize=(15,5))\n",
        "    sns.boxplot(pre_1[i])\n",
        "    plt.xticks(rotation = 90,fontsize =10)\n",
        "    plt.show()"
      ],
      "execution_count": 32,
      "outputs": [
        {
          "output_type": "display_data",
          "data": {
            "image/png": "[encoded data removed]",
            "text/plain": [
              "<Figure size 1080x360 with 1 Axes>"
            ]
          },
          "metadata": {
            "tags": [],
            "needs_background": "light"
          }
        },
        {
          "output_type": "display_data",
          "data": {
            "image/png": "[encoded data removed]",
            "text/plain": [
              "<Figure size 1080x360 with 1 Axes>"
            ]
          },
          "metadata": {
            "tags": [],
            "needs_background": "light"
          }
        },
        {
          "output_type": "display_data",
          "data": {
            "image/png": "[encoded data removed]",
            "text/plain": [
              "<Figure size 1080x360 with 1 Axes>"
            ]
          },
          "metadata": {
            "tags": [],
            "needs_background": "light"
          }
        },
        {
          "output_type": "display_data",
          "data": {
            "image/png": "[encoded data removed]",
            "text/plain": [
              "<Figure size 1080x360 with 1 Axes>"
            ]
          },
          "metadata": {
            "tags": [],
            "needs_background": "light"
          }
        },
        {
          "output_type": "display_data",
          "data": {
            "image/png": "[encoded data removed]",
            "text/plain": [
              "<Figure size 1080x360 with 1 Axes>"
            ]
          },
          "metadata": {
            "tags": [],
            "needs_background": "light"
          }
        }
      ]
    },
    {
      "cell_type": "code",
      "metadata": {
        "colab": {
          "base_uri": "https://localhost:8080/",
          "height": 458
        },
        "id": "X_3xRNSOjKue",
        "outputId": "3da3a894-b104-4a7c-d4b2-521d7a68ec3a"
      },
      "source": [
        "sns.jointplot('RATE_DOWN_PAYMENT', 'RATE_INTEREST_PRIMARY',data =pre_1)"
      ],
      "execution_count": 33,
      "outputs": [
        {
          "output_type": "execute_result",
          "data": {
            "text/plain": [
              "<seaborn.axisgrid.JointGrid at 0x7fd12779e210>"
            ]
          },
          "metadata": {
            "tags": []
          },
          "execution_count": 33
        },
        {
          "output_type": "display_data",
          "data": {
            "image/png": "[encoded data removed]",
            "text/plain": [
              "<Figure size 432x432 with 3 Axes>"
            ]
          },
          "metadata": {
            "tags": [],
            "needs_background": "light"
          }
        }
      ]
    },
    {
      "cell_type": "code",
      "metadata": {
        "colab": {
          "base_uri": "https://localhost:8080/",
          "height": 338
        },
        "id": "VM1--he9HrcU",
        "outputId": "3254cbcc-5eee-433c-94a9-50296c76131d"
      },
      "source": [
        "pre_d.head(6)"
      ],
      "execution_count": 34,
      "outputs": [
        {
          "output_type": "execute_result",
          "data": {
            "text/html": [
              "<div>\n",
              "<style scoped>\n",
              "    .dataframe tbody tr th:only-of-type {\n",
              "        vertical-align: middle;\n",
              "    }\n",
              "\n",
              "    .dataframe tbody tr th {\n",
              "        vertical-align: top;\n",
              "    }\n",
              "\n",
              "    .dataframe thead th {\n",
              "        text-align: right;\n",
              "    }\n",
              "</style>\n",
              "<table border=\"1\" class=\"dataframe\">\n",
              "  <thead>\n",
              "    <tr style=\"text-align: right;\">\n",
              "      <th></th>\n",
              "      <th>SK_ID_PREV</th>\n",
              "      <th>SK_ID_CURR</th>\n",
              "      <th>NAME_CONTRACT_TYPE</th>\n",
              "      <th>AMT_ANNUITY</th>\n",
              "      <th>AMT_APPLICATION</th>\n",
              "      <th>AMT_CREDIT</th>\n",
              "      <th>AMT_DOWN_PAYMENT</th>\n",
              "      <th>AMT_GOODS_PRICE</th>\n",
              "      <th>WEEKDAY_APPR_PROCESS_START</th>\n",
              "      <th>HOUR_APPR_PROCESS_START</th>\n",
              "      <th>FLAG_LAST_APPL_PER_CONTRACT</th>\n",
              "      <th>NFLAG_LAST_APPL_IN_DAY</th>\n",
              "      <th>RATE_DOWN_PAYMENT</th>\n",
              "      <th>RATE_INTEREST_PRIMARY</th>\n",
              "      <th>RATE_INTEREST_PRIVILEGED</th>\n",
              "      <th>NAME_CASH_LOAN_PURPOSE</th>\n",
              "      <th>NAME_CONTRACT_STATUS</th>\n",
              "      <th>DAYS_DECISION</th>\n",
              "      <th>NAME_PAYMENT_TYPE</th>\n",
              "      <th>CODE_REJECT_REASON</th>\n",
              "      <th>NAME_TYPE_SUITE</th>\n",
              "      <th>NAME_CLIENT_TYPE</th>\n",
              "      <th>NAME_GOODS_CATEGORY</th>\n",
              "      <th>NAME_PORTFOLIO</th>\n",
              "      <th>NAME_PRODUCT_TYPE</th>\n",
              "      <th>CHANNEL_TYPE</th>\n",
              "      <th>SELLERPLACE_AREA</th>\n",
              "      <th>NAME_SELLER_INDUSTRY</th>\n",
              "      <th>CNT_PAYMENT</th>\n",
              "      <th>NAME_YIELD_GROUP</th>\n",
              "      <th>PRODUCT_COMBINATION</th>\n",
              "      <th>DAYS_FIRST_DRAWING</th>\n",
              "      <th>DAYS_FIRST_DUE</th>\n",
              "      <th>DAYS_LAST_DUE_1ST_VERSION</th>\n",
              "      <th>DAYS_LAST_DUE</th>\n",
              "      <th>DAYS_TERMINATION</th>\n",
              "      <th>NFLAG_INSURED_ON_APPROVAL</th>\n",
              "    </tr>\n",
              "  </thead>\n",
              "  <tbody>\n",
              "    <tr>\n",
              "      <th>0</th>\n",
              "      <td>2030495</td>\n",
              "      <td>271877</td>\n",
              "      <td>Consumer loans</td>\n",
              "      <td>1730.430</td>\n",
              "      <td>17145.0</td>\n",
              "      <td>17145.0</td>\n",
              "      <td>0.0</td>\n",
              "      <td>17145.0</td>\n",
              "      <td>SATURDAY</td>\n",
              "      <td>15</td>\n",
              "      <td>Y</td>\n",
              "      <td>1</td>\n",
              "      <td>0.0</td>\n",
              "      <td>0.182832</td>\n",
              "      <td>0.867336</td>\n",
              "      <td>XAP</td>\n",
              "      <td>Approved</td>\n",
              "      <td>-73</td>\n",
              "      <td>Cash through the bank</td>\n",
              "      <td>XAP</td>\n",
              "      <td>NaN</td>\n",
              "      <td>Repeater</td>\n",
              "      <td>Mobile</td>\n",
              "      <td>POS</td>\n",
              "      <td>XNA</td>\n",
              "      <td>Country-wide</td>\n",
              "      <td>35</td>\n",
              "      <td>Connectivity</td>\n",
              "      <td>12.0</td>\n",
              "      <td>middle</td>\n",
              "      <td>POS mobile with interest</td>\n",
              "      <td>365243.0</td>\n",
              "      <td>-42.0</td>\n",
              "      <td>300.0</td>\n",
              "      <td>-42.0</td>\n",
              "      <td>-37.0</td>\n",
              "      <td>0.0</td>\n",
              "    </tr>\n",
              "    <tr>\n",
              "      <th>1</th>\n",
              "      <td>2802425</td>\n",
              "      <td>108129</td>\n",
              "      <td>Cash loans</td>\n",
              "      <td>25188.615</td>\n",
              "      <td>607500.0</td>\n",
              "      <td>679671.0</td>\n",
              "      <td>NaN</td>\n",
              "      <td>607500.0</td>\n",
              "      <td>THURSDAY</td>\n",
              "      <td>11</td>\n",
              "      <td>Y</td>\n",
              "      <td>1</td>\n",
              "      <td>NaN</td>\n",
              "      <td>NaN</td>\n",
              "      <td>NaN</td>\n",
              "      <td>XNA</td>\n",
              "      <td>Approved</td>\n",
              "      <td>-164</td>\n",
              "      <td>XNA</td>\n",
              "      <td>XAP</td>\n",
              "      <td>Unaccompanied</td>\n",
              "      <td>Repeater</td>\n",
              "      <td>XNA</td>\n",
              "      <td>Cash</td>\n",
              "      <td>x-sell</td>\n",
              "      <td>Contact center</td>\n",
              "      <td>-1</td>\n",
              "      <td>XNA</td>\n",
              "      <td>36.0</td>\n",
              "      <td>low_action</td>\n",
              "      <td>Cash X-Sell: low</td>\n",
              "      <td>365243.0</td>\n",
              "      <td>-134.0</td>\n",
              "      <td>916.0</td>\n",
              "      <td>365243.0</td>\n",
              "      <td>365243.0</td>\n",
              "      <td>1.0</td>\n",
              "    </tr>\n",
              "    <tr>\n",
              "      <th>2</th>\n",
              "      <td>2523466</td>\n",
              "      <td>122040</td>\n",
              "      <td>Cash loans</td>\n",
              "      <td>15060.735</td>\n",
              "      <td>112500.0</td>\n",
              "      <td>136444.5</td>\n",
              "      <td>NaN</td>\n",
              "      <td>112500.0</td>\n",
              "      <td>TUESDAY</td>\n",
              "      <td>11</td>\n",
              "      <td>Y</td>\n",
              "      <td>1</td>\n",
              "      <td>NaN</td>\n",
              "      <td>NaN</td>\n",
              "      <td>NaN</td>\n",
              "      <td>XNA</td>\n",
              "      <td>Approved</td>\n",
              "      <td>-301</td>\n",
              "      <td>Cash through the bank</td>\n",
              "      <td>XAP</td>\n",
              "      <td>Spouse, partner</td>\n",
              "      <td>Repeater</td>\n",
              "      <td>XNA</td>\n",
              "      <td>Cash</td>\n",
              "      <td>x-sell</td>\n",
              "      <td>Credit and cash offices</td>\n",
              "      <td>-1</td>\n",
              "      <td>XNA</td>\n",
              "      <td>12.0</td>\n",
              "      <td>high</td>\n",
              "      <td>Cash X-Sell: high</td>\n",
              "      <td>365243.0</td>\n",
              "      <td>-271.0</td>\n",
              "      <td>59.0</td>\n",
              "      <td>365243.0</td>\n",
              "      <td>365243.0</td>\n",
              "      <td>1.0</td>\n",
              "    </tr>\n",
              "    <tr>\n",
              "      <th>3</th>\n",
              "      <td>2819243</td>\n",
              "      <td>176158</td>\n",
              "      <td>Cash loans</td>\n",
              "      <td>47041.335</td>\n",
              "      <td>450000.0</td>\n",
              "      <td>470790.0</td>\n",
              "      <td>NaN</td>\n",
              "      <td>450000.0</td>\n",
              "      <td>MONDAY</td>\n",
              "      <td>7</td>\n",
              "      <td>Y</td>\n",
              "      <td>1</td>\n",
              "      <td>NaN</td>\n",
              "      <td>NaN</td>\n",
              "      <td>NaN</td>\n",
              "      <td>XNA</td>\n",
              "      <td>Approved</td>\n",
              "      <td>-512</td>\n",
              "      <td>Cash through the bank</td>\n",
              "      <td>XAP</td>\n",
              "      <td>NaN</td>\n",
              "      <td>Repeater</td>\n",
              "      <td>XNA</td>\n",
              "      <td>Cash</td>\n",
              "      <td>x-sell</td>\n",
              "      <td>Credit and cash offices</td>\n",
              "      <td>-1</td>\n",
              "      <td>XNA</td>\n",
              "      <td>12.0</td>\n",
              "      <td>middle</td>\n",
              "      <td>Cash X-Sell: middle</td>\n",
              "      <td>365243.0</td>\n",
              "      <td>-482.0</td>\n",
              "      <td>-152.0</td>\n",
              "      <td>-182.0</td>\n",
              "      <td>-177.0</td>\n",
              "      <td>1.0</td>\n",
              "    </tr>\n",
              "    <tr>\n",
              "      <th>4</th>\n",
              "      <td>1784265</td>\n",
              "      <td>202054</td>\n",
              "      <td>Cash loans</td>\n",
              "      <td>31924.395</td>\n",
              "      <td>337500.0</td>\n",
              "      <td>404055.0</td>\n",
              "      <td>NaN</td>\n",
              "      <td>337500.0</td>\n",
              "      <td>THURSDAY</td>\n",
              "      <td>9</td>\n",
              "      <td>Y</td>\n",
              "      <td>1</td>\n",
              "      <td>NaN</td>\n",
              "      <td>NaN</td>\n",
              "      <td>NaN</td>\n",
              "      <td>Repairs</td>\n",
              "      <td>Refused</td>\n",
              "      <td>-781</td>\n",
              "      <td>Cash through the bank</td>\n",
              "      <td>HC</td>\n",
              "      <td>NaN</td>\n",
              "      <td>Repeater</td>\n",
              "      <td>XNA</td>\n",
              "      <td>Cash</td>\n",
              "      <td>walk-in</td>\n",
              "      <td>Credit and cash offices</td>\n",
              "      <td>-1</td>\n",
              "      <td>XNA</td>\n",
              "      <td>24.0</td>\n",
              "      <td>high</td>\n",
              "      <td>Cash Street: high</td>\n",
              "      <td>NaN</td>\n",
              "      <td>NaN</td>\n",
              "      <td>NaN</td>\n",
              "      <td>NaN</td>\n",
              "      <td>NaN</td>\n",
              "      <td>NaN</td>\n",
              "    </tr>\n",
              "    <tr>\n",
              "      <th>5</th>\n",
              "      <td>1383531</td>\n",
              "      <td>199383</td>\n",
              "      <td>Cash loans</td>\n",
              "      <td>23703.930</td>\n",
              "      <td>315000.0</td>\n",
              "      <td>340573.5</td>\n",
              "      <td>NaN</td>\n",
              "      <td>315000.0</td>\n",
              "      <td>SATURDAY</td>\n",
              "      <td>8</td>\n",
              "      <td>Y</td>\n",
              "      <td>1</td>\n",
              "      <td>NaN</td>\n",
              "      <td>NaN</td>\n",
              "      <td>NaN</td>\n",
              "      <td>Everyday expenses</td>\n",
              "      <td>Approved</td>\n",
              "      <td>-684</td>\n",
              "      <td>Cash through the bank</td>\n",
              "      <td>XAP</td>\n",
              "      <td>Family</td>\n",
              "      <td>Repeater</td>\n",
              "      <td>XNA</td>\n",
              "      <td>Cash</td>\n",
              "      <td>x-sell</td>\n",
              "      <td>Credit and cash offices</td>\n",
              "      <td>-1</td>\n",
              "      <td>XNA</td>\n",
              "      <td>18.0</td>\n",
              "      <td>low_normal</td>\n",
              "      <td>Cash X-Sell: low</td>\n",
              "      <td>365243.0</td>\n",
              "      <td>-654.0</td>\n",
              "      <td>-144.0</td>\n",
              "      <td>-144.0</td>\n",
              "      <td>-137.0</td>\n",
              "      <td>1.0</td>\n",
              "    </tr>\n",
              "  </tbody>\n",
              "</table>\n",
              "</div>"
            ],
            "text/plain": [
              "   SK_ID_PREV  SK_ID_CURR  ... DAYS_TERMINATION  NFLAG_INSURED_ON_APPROVAL\n",
              "0     2030495      271877  ...            -37.0                        0.0\n",
              "1     2802425      108129  ...         365243.0                        1.0\n",
              "2     2523466      122040  ...         365243.0                        1.0\n",
              "3     2819243      176158  ...           -177.0                        1.0\n",
              "4     1784265      202054  ...              NaN                        NaN\n",
              "5     1383531      199383  ...           -137.0                        1.0\n",
              "\n",
              "[6 rows x 37 columns]"
            ]
          },
          "metadata": {
            "tags": []
          },
          "execution_count": 34
        }
      ]
    },
    {
      "cell_type": "markdown",
      "metadata": {
        "id": "ICapQrAxHa4B"
      },
      "source": [
        "plots payment ,client,Portfolio\n",
        "+ cash throug bank is highest and most of them are in repeater.\n",
        "+ most clients have pos as their portfolio.\n"
      ]
    },
    {
      "cell_type": "code",
      "metadata": {
        "colab": {
          "base_uri": "https://localhost:8080/",
          "height": 731
        },
        "id": "KYiyjEDLqZ4C",
        "outputId": "a0b2190b-bd73-4163-8195-e996d9b00c5e"
      },
      "source": [
        "plt.figure(figsize=(12,12))\n",
        "plt.subplot(221)\n",
        "sns.countplot(y='NAME_PAYMENT_TYPE',data = pre_1)\n",
        "plt.subplot(222)\n",
        "sns.countplot(y='NAME_CLIENT_TYPE',data = pre_1)\n",
        "plt.subplot(223)\n",
        "sns.countplot(y='NAME_PORTFOLIO',data = pre_1)"
      ],
      "execution_count": 35,
      "outputs": [
        {
          "output_type": "execute_result",
          "data": {
            "text/plain": [
              "<matplotlib.axes._subplots.AxesSubplot at 0x7fd127d81bd0>"
            ]
          },
          "metadata": {
            "tags": []
          },
          "execution_count": 35
        },
        {
          "output_type": "display_data",
          "data": {
            "image/png": "[encoded data removed]",
            "text/plain": [
              "<Figure size 864x864 with 3 Axes>"
            ]
          },
          "metadata": {
            "tags": [],
            "needs_background": "light"
          }
        }
      ]
    },
    {
      "cell_type": "code",
      "metadata": {
        "colab": {
          "base_uri": "https://localhost:8080/",
          "height": 1000
        },
        "id": "76oQKCgiqZ1X",
        "outputId": "9b2ff03a-d521-4992-ef51-8688d5331c1e"
      },
      "source": [
        "# PLOT A BOX CHART FOR THE CURRENT APPLICATION'S QUANTITATIVE VARIABLES TO SEE THE OUTLIERS\n",
        "prev_box_2 = ['AMT_APPLICATION','AMT_CREDIT', 'AMT_ANNUITY', 'AMT_GOODS_PRICE','DAYS_DECISION']\n",
        "for i in pre_d[prev_box_2]:\n",
        "    plt.figure(1,figsize=(15,5))\n",
        "    sns.boxplot(pre_d[i])\n",
        "    plt.xticks(rotation = 90,fontsize =10)\n",
        "    plt.show()"
      ],
      "execution_count": 36,
      "outputs": [
        {
          "output_type": "display_data",
          "data": {
            "image/png": "[encoded data removed]",
            "text/plain": [
              "<Figure size 1080x360 with 1 Axes>"
            ]
          },
          "metadata": {
            "tags": [],
            "needs_background": "light"
          }
        },
        {
          "output_type": "display_data",
          "data": {
            "image/png": "[encoded data removed]",
            "text/plain": [
              "<Figure size 1080x360 with 1 Axes>"
            ]
          },
          "metadata": {
            "tags": [],
            "needs_background": "light"
          }
        },
        {
          "output_type": "display_data",
          "data": {
            "image/png": "[encoded data removed]",
            "text/plain": [
              "<Figure size 1080x360 with 1 Axes>"
            ]
          },
          "metadata": {
            "tags": [],
            "needs_background": "light"
          }
        },
        {
          "output_type": "display_data",
          "data": {
            "image/png": "[encoded data removed]",
            "text/plain": [
              "<Figure size 1080x360 with 1 Axes>"
            ]
          },
          "metadata": {
            "tags": [],
            "needs_background": "light"
          }
        },
        {
          "output_type": "display_data",
          "data": {
            "image/png": "[encoded data removed]",
            "text/plain": [
              "<Figure size 1080x360 with 1 Axes>"
            ]
          },
          "metadata": {
            "tags": [],
            "needs_background": "light"
          }
        }
      ]
    },
    {
      "cell_type": "markdown",
      "metadata": {
        "id": "yKTznu7VJo2E"
      },
      "source": [
        "Boxplot : \n",
        "+ contract status VS annuity:\n",
        "+ contract status VS application:\n",
        "+ contract status VS credit:\n",
        "+ contract status VS goods price:"
      ]
    },
    {
      "cell_type": "code",
      "metadata": {
        "id": "ZRpk21BTqZzW"
      },
      "source": [
        "# BIVARIATE ANALYSIS FOR PREVIOUS APPLICATION DATA BASED ON CONTRACT_STATUS\n",
        "plt.figure(figsize=(15,15))\n",
        "plt.subplot(221)\n",
        "sns.barplot(x=\"NAME_CONTRACT_STATUS\", y=\"AMT_ANNUITY\",data=pre_d)\n",
        "plt.subplot(222)\n",
        "sns.barplot(x=\"NAME_CONTRACT_STATUS\", y=\"AMT_APPLICATION\",data=pre_d)\n",
        "plt.subplot(223)\n",
        "sns.barplot(x=\"NAME_CONTRACT_STATUS\", y=\"AMT_CREDIT\",data=pre_d)\n",
        "plt.subplot(224)\n",
        "sns.barplot(x=\"NAME_CONTRACT_STATUS\", y=\"AMT_GOODS_PRICE\",data=pre_d)"
      ],
      "execution_count": null,
      "outputs": []
    },
    {
      "cell_type": "markdown",
      "metadata": {
        "id": "f-lqtM6sNLlT"
      },
      "source": [
        "### BIVARIATE ANALYSIS"
      ]
    },
    {
      "cell_type": "markdown",
      "metadata": {
        "id": "ERGD0vwFQZv8"
      },
      "source": [
        "Density spread when compared to total income."
      ]
    },
    {
      "cell_type": "code",
      "metadata": {
        "id": "EIgtoHEIDPoK"
      },
      "source": [
        "#JOINT PLOT between AMT_CREDIT AND AMT_INCOME_TOTAL\n",
        "plt.figure(figsize=(25,25))\n",
        "sns.jointplot('AMT_CREDIT','AMT_INCOME_TOTAL', app_d,hue = \"TARGET\" )"
      ],
      "execution_count": null,
      "outputs": []
    },
    {
      "cell_type": "code",
      "metadata": {
        "id": "NGTe1zTxF6oq"
      },
      "source": [
        "# BIVARIATE ANALYSIS\n",
        "plt.figure(figsize=(25,25))\n",
        "sns.jointplot(app_d.DAYS_BIRTH.abs(),'AMT_CREDIT', app_d,hue = \"TARGET\" )\n"
      ],
      "execution_count": null,
      "outputs": []
    },
    {
      "cell_type": "code",
      "metadata": {
        "id": "8QPR6zzrOfWU"
      },
      "source": [
        "plt.figure(figsize=(15,8))\n",
        "sns.lineplot(x=\"AMT_INCOME_TOTAL\", y=\"AMT_CREDIT\",hue =\"TARGET\", data=app_d)\n"
      ],
      "execution_count": null,
      "outputs": []
    },
    {
      "cell_type": "code",
      "metadata": {
        "id": "ghV1tllaX2ny"
      },
      "source": [
        "amt = app_d[[ 'AMT_INCOME_TOTAL','AMT_CREDIT',\n",
        "             'AMT_ANNUITY', 'AMT_GOODS_PRICE',\"TARGET\"]]\n",
        "amt = amt[(amt[\"AMT_GOODS_PRICE\"].notnull()) & (amt[\"AMT_ANNUITY\"].notnull())]\n",
        "sns.pairplot(amt,hue=\"TARGET\",palette=[\"b\",\"r\"])"
      ],
      "execution_count": null,
      "outputs": []
    },
    {
      "cell_type": "markdown",
      "metadata": {
        "id": "WOoqoPlUqWs6"
      },
      "source": [
        "# Joining two sets for in depth analysis "
      ]
    },
    {
      "cell_type": "code",
      "metadata": {
        "id": "y6wTS79pq-JS"
      },
      "source": [
        "#app_d\n",
        "#pre_d\n",
        "data = pd.merge(app_d,pre_d,on=\"SK_ID_CURR\",how = \"inner\")\n"
      ],
      "execution_count": null,
      "outputs": []
    },
    {
      "cell_type": "code",
      "metadata": {
        "id": "8Y5s20GIv0th"
      },
      "source": [
        "#data.drop([['RATE_INTEREST_PRIVILEGED','RATE_INTEREST_PRIMARY','COMMONAREA_AVG','COMMONAREA_MODE',\n",
        "            'COMMONAREA_MEDI','NONLIVINGAPARTMENTS_MEDI','NONLIVINGAPARTMENTS_AVG','NONLIVINGAPARTMENTS_MODE',\n",
        "            'FONDKAPREMONT_MODE','LIVINGAPARTMENTS_MODE','LIVINGAPARTMENTS_MEDI','LIVINGAPARTMENTS_AVG','FLOORSMIN_AVG',\n",
        "            'FLOORSMIN_MODE','FLOORSMIN_MEDI','YEARS_BUILD_AVG','YEARS_BUILD_MODE','YEARS_BUILD_MEDI','OWN_CAR_AGE','LANDAREA_MODE',\n",
        "            'LANDAREA_AVG','LANDAREA_MEDI','BASEMENTAREA_MODE','BASEMENTAREA_MEDI','BASEMENTAREA_AVG','EXT_SOURCE_1','NONLIVINGAREA_AVG',\n",
        "            'NONLIVINGAREA_MODE','NONLIVINGAREA_MEDI','ELEVATORS_MEDI','ELEVATORS_AVG','ELEVATORS_MODE','WALLSMATERIAL_MODE',\n",
        "            'APARTMENTS_MEDI','APARTMENTS_AVG','APARTMENTS_MODE','ENTRANCES_MEDI','ENTRANCES_MODE','ENTRANCES_AVG','LIVINGAREA_MODE',\n",
        "            'LIVINGAREA_MEDI','LIVINGAREA_AVG','HOUSETYPE_MODE','FLOORSMAX_MEDI','FLOORSMAX_AVG','FLOORSMAX_MODE',\n",
        "            'YEARS_BEGINEXPLUATATION_MEDI','YEARS_BEGINEXPLUATATION_AVG','YEARS_BEGINEXPLUATATION_MODE','TOTALAREA_MODE',\n",
        "            'EMERGENCYSTATE_MODE','AMT_DOWN_PAYMENT','RATE_DOWN_PAYMENT','NAME_TYPE_SUITE_y']])"
      ],
      "execution_count": null,
      "outputs": []
    },
    {
      "cell_type": "code",
      "metadata": {
        "id": "CLRYnXotSnfA"
      },
      "source": [
        "data.select_dtypes(include=np)"
      ],
      "execution_count": null,
      "outputs": []
    },
    {
      "cell_type": "code",
      "metadata": {
        "id": "RWkdLVzebmOA"
      },
      "source": [
        "data.select_dtypes(exclude=np)"
      ],
      "execution_count": null,
      "outputs": []
    },
    {
      "cell_type": "code",
      "metadata": {
        "id": "DCDaOADLsm9G"
      },
      "source": [
        "plt.figure(figsize=(12,12))\n",
        "plt.subplot(221)\n",
        "sns.countplot(y='NAME_PAYMENT_TYPE',data = data)\n",
        "plt.subplot(222)\n",
        "sns.countplot(y='NAME_CLIENT_TYPE',data = data)\n",
        "plt.subplot(223)\n",
        "sns.countplot(y='NAME_PORTFOLIO',data = data)"
      ],
      "execution_count": null,
      "outputs": []
    },
    {
      "cell_type": "code",
      "metadata": {
        "id": "O87g5rCGPGB3"
      },
      "source": [
        "plt.figure(figsize=(10,13))\n",
        "plt.subplot(121)\n",
        "plt.title(\"DISTRIBUTION OF BASED ON ORGANIZATION_TYPE\")\n",
        "sns.countplot(data = data,y= 'ORGANIZATION_TYPE',hue=\"TARGET\")\n",
        "\n"
      ],
      "execution_count": null,
      "outputs": []
    },
    {
      "cell_type": "code",
      "metadata": {
        "id": "6MwgBcXPZQLh"
      },
      "source": [
        "app31 =data.DAYS_REGISTRATION.abs()\n",
        "plt.figure(figsize=(13,13))\n",
        "plt.subplot(221)\n",
        "sns.countplot(data =data,y=\"NAME_INCOME_TYPE\",hue = \"TARGET\")\n",
        "plt.subplot(222)\n",
        "app31.hist()"
      ],
      "execution_count": null,
      "outputs": []
    },
    {
      "cell_type": "code",
      "metadata": {
        "id": "infCGSpmSQrf"
      },
      "source": [
        "plt.figure(figsize=(13,13))\n",
        "plt.subplot(221)\n",
        "sns.countplot(data =data,x=\"NAME_CONTRACT_TYPE_x\",hue = \"TARGET\")\n",
        "plt.subplot(222)\n",
        "data.groupby('NAME_TYPE_SUITE_x').NAME_TYPE_SUITE_x.count().sort_values(ascending =False).plot(kind= 'bar',xlabel='Group',ylabel='customer count',title =\"Customer Group\")\n",
        "plt.subplot(223)\n",
        "sns.countplot(data =data ,x= 'TARGET',hue=\"CODE_GENDER\")"
      ],
      "execution_count": null,
      "outputs": []
    },
    {
      "cell_type": "code",
      "metadata": {
        "id": "cGkFlIp4bYjY"
      },
      "source": [
        "#plt.figure(figsize=(10,6))\n",
        "#sns.catplot(data =data,y=\"OCCUPATION_TYPE\",hue =\"CODE_GENDER\",kind='count',height=5, aspect=6)\n"
      ],
      "execution_count": null,
      "outputs": []
    }
  ]
}